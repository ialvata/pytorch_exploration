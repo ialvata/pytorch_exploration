{
 "cells": [
  {
   "cell_type": "code",
   "execution_count": 1,
   "metadata": {},
   "outputs": [
    {
     "name": "stderr",
     "output_type": "stream",
     "text": [
      "/home/ivo/.local/lib/python3.10/site-packages/tqdm/auto.py:21: TqdmWarning: IProgress not found. Please update jupyter and ipywidgets. See https://ipywidgets.readthedocs.io/en/stable/user_install.html\n",
      "  from .autonotebook import tqdm as notebook_tqdm\n"
     ]
    }
   ],
   "source": [
    "import torch\n",
    "from torch import nn\n",
    "from torchmetrics import F1Score\n",
    "import pandas as pd\n",
    "import numpy as np\n",
    "from sklearn.preprocessing import LabelEncoder\n",
    "from sklearn.model_selection import train_test_split\n",
    "import ipaddress"
   ]
  },
  {
   "cell_type": "code",
   "execution_count": 2,
   "metadata": {},
   "outputs": [
    {
     "name": "stderr",
     "output_type": "stream",
     "text": [
      "/home/ivo/.local/lib/python3.10/site-packages/torch/cuda/__init__.py:107: UserWarning: CUDA initialization: CUDA unknown error - this may be due to an incorrectly set up environment, e.g. changing env variable CUDA_VISIBLE_DEVICES after program start. Setting the available devices to be zero. (Triggered internally at ../c10/cuda/CUDAFunctions.cpp:109.)\n",
      "  return torch._C._cuda_getDeviceCount() > 0\n"
     ]
    },
    {
     "data": {
      "text/plain": [
       "'cpu'"
      ]
     },
     "execution_count": 2,
     "metadata": {},
     "output_type": "execute_result"
    }
   ],
   "source": [
    "# Make device agnostic code\n",
    "device = \"cuda\" if torch.cuda.is_available() else \"cpu\"\n",
    "device"
   ]
  },
  {
   "cell_type": "markdown",
   "metadata": {},
   "source": [
    "# Botnet Detection\n",
    "## A Multiclass Classification Problem"
   ]
  },
  {
   "cell_type": "markdown",
   "metadata": {},
   "source": [
    "### About The Dataset"
   ]
  },
  {
   "cell_type": "markdown",
   "metadata": {},
   "source": [
    "The dataset can be found [zenodo.org/records/8035724](https://zenodo.org/records/8035724)"
   ]
  },
  {
   "cell_type": "markdown",
   "metadata": {},
   "source": [
    "In the research paper [An empirical comparison of botnet detection methods](https://doi.org/10.1016/j.cose.2014.05.011) we have some information on the features used.\n",
    "1. Source IP address\n",
    "2. Amount of unique source ports used by this source IP address.\n",
    "3. Amount of unique destination IP addresses contacted by this source IP address.\n",
    "4. Amount of unique destination ports contacted by this source IP address.\n",
    "5. Amount of NetFlows used by this source IP address.\n",
    "6. Amount of bytes transferred by this source IP address.\n",
    "7. Amount of packets transferred by this source IP address.\n",
    "\n",
    "After clustering some of this observations, the authors created some more features:\n",
    "1. Total amount of instances in the cluster.\n",
    "2. Total amount of NetFlows in the cluster.\n",
    "3. Amount of source IP addresses.\n",
    "4. Average amount of unique source ports.\n",
    "5. Standard Deviation of the amount of unique source ports.\n",
    "6. Average amount of unique destination IP addresses.\n",
    "7. Standard Deviation of the amount of unique destination IP addresses.\n",
    "8. Average amount of unique destination ports.\n",
    "9. Standard Deviation of the amount of unique destination ports.\n",
    "10. Average amount of NetFlows.\n",
    "11. Standard Deviation of the amount of NetFlows.\n",
    "12. Average amount of bytes transferred.\n",
    "13. Standard Deviation of the amount of bytes transferred.\n",
    "14. Average amount of packets transferred.\n",
    "15. Standard Deviation of the amount of packets transferred.\n",
    "\n",
    "The remaining features should be self-explanatory."
   ]
  },
  {
   "cell_type": "markdown",
   "metadata": {},
   "source": [
    "### Importing Data"
   ]
  },
  {
   "cell_type": "code",
   "execution_count": 3,
   "metadata": {},
   "outputs": [],
   "source": [
    "raw_data = pd.read_csv(\"./data/botnet_multiclass.csv\")"
   ]
  },
  {
   "cell_type": "code",
   "execution_count": 4,
   "metadata": {},
   "outputs": [
    {
     "name": "stdout",
     "output_type": "stream",
     "text": [
      "<class 'pandas.core.frame.DataFrame'>\n",
      "RangeIndex: 176640 entries, 0 to 176639\n",
      "Columns: 85 entries, Unnamed: 0.1 to LABEL\n",
      "dtypes: bool(4), float64(61), int64(17), object(3)\n",
      "memory usage: 109.8+ MB\n"
     ]
    }
   ],
   "source": [
    "raw_data.info(verbose=False)"
   ]
  },
  {
   "cell_type": "code",
   "execution_count": 5,
   "metadata": {},
   "outputs": [
    {
     "data": {
      "text/plain": [
       "True"
      ]
     },
     "execution_count": 5,
     "metadata": {},
     "output_type": "execute_result"
    }
   ],
   "source": [
    "(raw_data.isna()).any().any() # True means that we have missing data"
   ]
  },
  {
   "cell_type": "markdown",
   "metadata": {},
   "source": [
    "We need to transform the object columns, and deal with missing data."
   ]
  },
  {
   "cell_type": "markdown",
   "metadata": {},
   "source": [
    "### Preprocessing The Data"
   ]
  },
  {
   "cell_type": "code",
   "execution_count": 6,
   "metadata": {},
   "outputs": [],
   "source": [
    "preprocessed_data = raw_data.copy(deep=True) \n",
    "# since we have enough memory, it should be ok. This will avoid messing the original data.\n"
   ]
  },
  {
   "cell_type": "code",
   "execution_count": 7,
   "metadata": {},
   "outputs": [
    {
     "data": {
      "text/plain": [
       "Index(['DST_IP', 'SRC_IP', 'LABEL'], dtype='object')"
      ]
     },
     "execution_count": 7,
     "metadata": {},
     "output_type": "execute_result"
    }
   ],
   "source": [
    "object_columns = preprocessed_data.select_dtypes(include=['object'])\n",
    "object_columns.columns\n"
   ]
  },
  {
   "cell_type": "markdown",
   "metadata": {},
   "source": [
    "Let's encode the destination and source IP."
   ]
  },
  {
   "cell_type": "code",
   "execution_count": 8,
   "metadata": {},
   "outputs": [
    {
     "data": {
      "text/html": [
       "<div>\n",
       "<style scoped>\n",
       "    .dataframe tbody tr th:only-of-type {\n",
       "        vertical-align: middle;\n",
       "    }\n",
       "\n",
       "    .dataframe tbody tr th {\n",
       "        vertical-align: top;\n",
       "    }\n",
       "\n",
       "    .dataframe thead th {\n",
       "        text-align: right;\n",
       "    }\n",
       "</style>\n",
       "<table border=\"1\" class=\"dataframe\">\n",
       "  <thead>\n",
       "    <tr style=\"text-align: right;\">\n",
       "      <th></th>\n",
       "      <th>DST_IP</th>\n",
       "      <th>SRC_IP</th>\n",
       "    </tr>\n",
       "  </thead>\n",
       "  <tbody>\n",
       "    <tr>\n",
       "      <th>0</th>\n",
       "      <td>147.32.80.9</td>\n",
       "      <td>147.32.84.165</td>\n",
       "    </tr>\n",
       "    <tr>\n",
       "      <th>1</th>\n",
       "      <td>147.32.84.255</td>\n",
       "      <td>147.32.84.165</td>\n",
       "    </tr>\n",
       "    <tr>\n",
       "      <th>2</th>\n",
       "      <td>147.32.84.255</td>\n",
       "      <td>147.32.84.165</td>\n",
       "    </tr>\n",
       "    <tr>\n",
       "      <th>3</th>\n",
       "      <td>147.32.84.165.</td>\n",
       "      <td>60.190.222.139</td>\n",
       "    </tr>\n",
       "    <tr>\n",
       "      <th>4</th>\n",
       "      <td>60.190.222.139.</td>\n",
       "      <td>147.32.84.165</td>\n",
       "    </tr>\n",
       "  </tbody>\n",
       "</table>\n",
       "</div>"
      ],
      "text/plain": [
       "            DST_IP          SRC_IP\n",
       "0      147.32.80.9   147.32.84.165\n",
       "1    147.32.84.255   147.32.84.165\n",
       "2    147.32.84.255   147.32.84.165\n",
       "3   147.32.84.165.  60.190.222.139\n",
       "4  60.190.222.139.   147.32.84.165"
      ]
     },
     "execution_count": 8,
     "metadata": {},
     "output_type": "execute_result"
    }
   ],
   "source": [
    "object_columns[['DST_IP', 'SRC_IP']].head()\n",
    "# notice row with index 3. There's an extra final \".\""
   ]
  },
  {
   "cell_type": "code",
   "execution_count": 9,
   "metadata": {},
   "outputs": [],
   "source": [
    "def ip_encoding(ip_address:str) -> int:\n",
    "    return int(ipaddress.ip_address(ip_address.rstrip(\".\")))"
   ]
  },
  {
   "cell_type": "code",
   "execution_count": 10,
   "metadata": {},
   "outputs": [
    {
     "data": {
      "text/plain": [
       "IPv4Address('147.32.84.165')"
      ]
     },
     "execution_count": 10,
     "metadata": {},
     "output_type": "execute_result"
    }
   ],
   "source": [
    "ipaddress.ip_address(ip_encoding(\"147.32.84.165.\"))"
   ]
  },
  {
   "cell_type": "code",
   "execution_count": 11,
   "metadata": {},
   "outputs": [
    {
     "data": {
      "text/html": [
       "<div>\n",
       "<style scoped>\n",
       "    .dataframe tbody tr th:only-of-type {\n",
       "        vertical-align: middle;\n",
       "    }\n",
       "\n",
       "    .dataframe tbody tr th {\n",
       "        vertical-align: top;\n",
       "    }\n",
       "\n",
       "    .dataframe thead th {\n",
       "        text-align: right;\n",
       "    }\n",
       "</style>\n",
       "<table border=\"1\" class=\"dataframe\">\n",
       "  <thead>\n",
       "    <tr style=\"text-align: right;\">\n",
       "      <th></th>\n",
       "      <th>DST_IP</th>\n",
       "      <th>SRC_IP</th>\n",
       "    </tr>\n",
       "  </thead>\n",
       "  <tbody>\n",
       "    <tr>\n",
       "      <th>0</th>\n",
       "      <td>2468368393</td>\n",
       "      <td>2468369573</td>\n",
       "    </tr>\n",
       "    <tr>\n",
       "      <th>1</th>\n",
       "      <td>2468369663</td>\n",
       "      <td>2468369573</td>\n",
       "    </tr>\n",
       "    <tr>\n",
       "      <th>2</th>\n",
       "      <td>2468369663</td>\n",
       "      <td>2468369573</td>\n",
       "    </tr>\n",
       "    <tr>\n",
       "      <th>3</th>\n",
       "      <td>2468369573</td>\n",
       "      <td>1019141771</td>\n",
       "    </tr>\n",
       "    <tr>\n",
       "      <th>4</th>\n",
       "      <td>1019141771</td>\n",
       "      <td>2468369573</td>\n",
       "    </tr>\n",
       "  </tbody>\n",
       "</table>\n",
       "</div>"
      ],
      "text/plain": [
       "       DST_IP      SRC_IP\n",
       "0  2468368393  2468369573\n",
       "1  2468369663  2468369573\n",
       "2  2468369663  2468369573\n",
       "3  2468369573  1019141771\n",
       "4  1019141771  2468369573"
      ]
     },
     "execution_count": 11,
     "metadata": {},
     "output_type": "execute_result"
    }
   ],
   "source": [
    "preprocessed_data['DST_IP'] = preprocessed_data['DST_IP'].apply(ip_encoding)\n",
    "preprocessed_data[\"SRC_IP\"] = preprocessed_data['SRC_IP'].apply(ip_encoding)\n",
    "preprocessed_data[['DST_IP',\"SRC_IP\"]].head()"
   ]
  },
  {
   "cell_type": "code",
   "execution_count": 12,
   "metadata": {},
   "outputs": [],
   "source": [
    "label_enc = LabelEncoder()\n",
    "preprocessed_data[\"LABEL\"] = label_enc.fit_transform(preprocessed_data[\"LABEL\"])"
   ]
  },
  {
   "cell_type": "code",
   "execution_count": 13,
   "metadata": {},
   "outputs": [
    {
     "data": {
      "text/plain": [
       "array(['clear', 'donbot', 'fast_flux', 'neris', 'qvod', 'rbot'],\n",
       "      dtype=object)"
      ]
     },
     "execution_count": 13,
     "metadata": {},
     "output_type": "execute_result"
    }
   ],
   "source": [
    "label_enc.classes_"
   ]
  },
  {
   "cell_type": "markdown",
   "metadata": {},
   "source": [
    "The zero class represents 'normalware', whereas all the remaining classes represent some sort of malware, more specifically botnets."
   ]
  },
  {
   "cell_type": "markdown",
   "metadata": {},
   "source": [
    "Let's do a small EDA on the classes."
   ]
  },
  {
   "cell_type": "code",
   "execution_count": 14,
   "metadata": {},
   "outputs": [
    {
     "data": {
      "text/plain": [
       "LABEL\n",
       "0        165573\n",
       "3          6332\n",
       "2          4367\n",
       "4           286\n",
       "5            55\n",
       "1            27\n",
       "Name: count, dtype: int64"
      ]
     },
     "execution_count": 14,
     "metadata": {},
     "output_type": "execute_result"
    }
   ],
   "source": [
    "labels_counts = preprocessed_data[[\"LABEL\"]].value_counts()\n",
    "labels_counts"
   ]
  },
  {
   "cell_type": "code",
   "execution_count": 15,
   "metadata": {},
   "outputs": [
    {
     "data": {
      "image/png": "[encoded data removed]",
      "text/plain": [
       "<Figure size 640x480 with 1 Axes>"
      ]
     },
     "metadata": {},
     "output_type": "display_data"
    }
   ],
   "source": [
    "labels_counts.plot.pie(); # type: ignore"
   ]
  },
  {
   "cell_type": "markdown",
   "metadata": {},
   "source": [
    "Our dataset is highly imbalanced, to the point that classifying some classes could be considered as outlier detection. There will be a section focused on this problem later on.\n",
    "\n",
    "For now, we will conduct our analysis without worrying to much on the class imbalance problem."
   ]
  },
  {
   "cell_type": "code",
   "execution_count": 16,
   "metadata": {},
   "outputs": [
    {
     "data": {
      "text/plain": [
       "(150598, 85)"
      ]
     },
     "execution_count": 16,
     "metadata": {},
     "output_type": "execute_result"
    }
   ],
   "source": [
    "preprocessed_data[preprocessed_data.isna().any(axis=1)].shape\n",
    "# there are 150598 row whose values have at least an NaN, leaving us with \n",
    "# only 26042 rows which are completely filled. Even though torch NN can take NaNs values, \n",
    "# these will contaminate the calculations, resulting in predictions full of NaNs. "
   ]
  },
  {
   "cell_type": "markdown",
   "metadata": {},
   "source": [
    "To keep this notebook simple, I'll just drop the rows with NaN's values.\n",
    "In a more demanding setting, we should decide on an imputation method for each feature, *separately*. And depending on the chosen method, we may only apply it after we've splitted the data into train and test set."
   ]
  },
  {
   "cell_type": "code",
   "execution_count": 17,
   "metadata": {},
   "outputs": [
    {
     "name": "stdout",
     "output_type": "stream",
     "text": [
      "<class 'pandas.core.frame.DataFrame'>\n",
      "Index: 26042 entries, 1 to 176607\n",
      "Columns: 85 entries, Unnamed: 0.1 to LABEL\n",
      "dtypes: bool(4), float64(61), int64(20)\n",
      "memory usage: 16.4 MB\n"
     ]
    }
   ],
   "source": [
    "preprocessed_data = preprocessed_data.dropna()\n",
    "preprocessed_data.info(verbose=False)"
   ]
  },
  {
   "cell_type": "markdown",
   "metadata": {},
   "source": [
    "### Splitting The Data"
   ]
  },
  {
   "cell_type": "code",
   "execution_count": 18,
   "metadata": {},
   "outputs": [],
   "source": [
    "# Separating features and label\n",
    "X = torch.tensor(preprocessed_data.iloc[:,:-1].values.astype(np.float64), dtype=torch.float64)\n",
    "# torch complains about a numpy.object_, even though pandas say there's no type object.\n",
    "# so, I have to use .astype. Also, if we use something less than np.float64, \n",
    "# we'll have overflow problems, and torch will put `inf`, and this will create problems.\n",
    "y = torch.tensor(preprocessed_data[\"LABEL\"].values.astype(np.float64), dtype=torch.float64)\n",
    "# CrossEntropyLoss expects targets of 0D or 1D."
   ]
  },
  {
   "cell_type": "code",
   "execution_count": 19,
   "metadata": {},
   "outputs": [
    {
     "data": {
      "text/plain": [
       "(torch.Size([23437, 84]),\n",
       " torch.Size([23437]),\n",
       " torch.Size([2605, 84]),\n",
       " torch.Size([2605]))"
      ]
     },
     "execution_count": 19,
     "metadata": {},
     "output_type": "execute_result"
    }
   ],
   "source": [
    "# Create train/test split\n",
    "X_train, X_test, y_train, y_test = train_test_split(X,y,train_size=0.9, stratify=y)\n",
    "# stratify will help keep the proportions of the classes in both y_train and y_test,\n",
    "# and thus avoid having a zero-shot classification problem on our hands.\n",
    "\n",
    "X_train.shape, y_train.shape, X_test.shape, y_test.shape"
   ]
  },
  {
   "cell_type": "markdown",
   "metadata": {},
   "source": [
    "Let's check out the distribution of the class labels"
   ]
  },
  {
   "cell_type": "code",
   "execution_count": 20,
   "metadata": {},
   "outputs": [
    {
     "data": {
      "text/plain": [
       "0.0    0.764432\n",
       "3.0    0.177326\n",
       "2.0    0.049836\n",
       "4.0    0.007595\n",
       "5.0    0.000512\n",
       "1.0    0.000299\n",
       "Name: proportion, dtype: float64"
      ]
     },
     "execution_count": 20,
     "metadata": {},
     "output_type": "execute_result"
    }
   ],
   "source": [
    "pd.DataFrame(y_train.numpy()).value_counts(normalize=True)\n",
    "# we have all classes in the training set, which is good"
   ]
  },
  {
   "cell_type": "code",
   "execution_count": 21,
   "metadata": {},
   "outputs": [
    {
     "data": {
      "text/plain": [
       "0.0    0.764299\n",
       "3.0    0.177351\n",
       "2.0    0.049904\n",
       "4.0    0.007678\n",
       "1.0    0.000384\n",
       "5.0    0.000384\n",
       "Name: proportion, dtype: float64"
      ]
     },
     "execution_count": 21,
     "metadata": {},
     "output_type": "execute_result"
    }
   ],
   "source": [
    "pd.DataFrame(y_test.numpy()).value_counts(normalize=True)\n",
    "# we also have all classes in the test set, with the weights of each class being very\n",
    "# similar. This will avoid problems as distribution shift"
   ]
  },
  {
   "cell_type": "markdown",
   "metadata": {},
   "source": [
    "### Creating The Model"
   ]
  },
  {
   "cell_type": "code",
   "execution_count": 22,
   "metadata": {},
   "outputs": [],
   "source": [
    "# 1. Construct a model class that subclasses nn.Module\n",
    "class BotNetClassifier(nn.Module):\n",
    "    def __init__(self):\n",
    "        super().__init__()\n",
    "        self.train_loss_values = []\n",
    "        self.test_loss_values = []\n",
    "        self.f1 = F1Score(task=\"multiclass\", num_classes=6)\n",
    "        self.layer_1 = nn.Linear(in_features=84, out_features=30, dtype=torch.float64) \n",
    "        self.layer_2 = nn.Linear(in_features=30, out_features=10, dtype=torch.float64)\n",
    "        self.layer_3 = nn.Linear(in_features=10, out_features=6, dtype=torch.float64)\n",
    "        # output should have 6 classes\n",
    "        self.relu = nn.ReLU()\n",
    "\n",
    "    def forward(self, x):\n",
    "        return  self.layer_3(self.relu(self.layer_2(self.relu(self.layer_1(x)))))\n",
    "    \n",
    "    def train_loop(self, input: torch.Tensor, labels: torch.Tensor, \n",
    "                   loss_fn:nn.modules.loss._Loss, optimizer: torch.optim.Optimizer):\n",
    "        self.train()\n",
    "        # Forward pass on train data using the forward() method\n",
    "        # CrossEntropyLoss works directly with logits as inputs\n",
    "        logits = self(input)\n",
    "        # CrossEntropyLoss expects a tensor of type long as targets.\n",
    "        # if we don't do the type casting outside the loss function, we get an error\n",
    "        labels_long = labels.to(dtype=torch.long)\n",
    "        loss = loss_fn(logits, labels_long)\n",
    "        # return rows with prob like quantities of size 6\n",
    "        pred = nn.Softmax(dim=1)(logits).argmax(dim=1) \n",
    "        f1_value = self.f1(pred, labels)\n",
    "        # Backpropagation\n",
    "        loss.backward()\n",
    "        # optimize parameters\n",
    "        optimizer.step()\n",
    "        # restart cycle\n",
    "        optimizer.zero_grad()\n",
    "        return loss, f1_value\n",
    "    \n",
    "    def test_loop(self, input: torch.Tensor, labels: torch.Tensor, \n",
    "                  loss_fn:nn.modules.loss._Loss):\n",
    "        self.eval()\n",
    "        with torch.inference_mode():\n",
    "            logits = self(input)\n",
    "            labels_long = labels.to(dtype=torch.long)\n",
    "            loss = loss_fn(logits, labels_long)\n",
    "            pred = nn.Softmax(dim=1)(logits).argmax(dim=1)\n",
    "            f1_value = self.f1(pred, labels)\n",
    "        return loss, f1_value\n",
    "    \n",
    "    def train_model(self, input: torch.Tensor, labels: torch.Tensor,\n",
    "                    loss_fn:nn.modules.loss._Loss, optimizer: torch.optim.Optimizer,\n",
    "                    n_epochs:int = 100):\n",
    "        for epoch in range(1,n_epochs+1):\n",
    "            print(f\"Epoch {epoch}\\n-------------------------------\")\n",
    "            train_loss, train_f1 = self.train_loop(input = input, labels = labels, \n",
    "                                         loss_fn = loss_fn, optimizer = optimizer)\n",
    "            self.train_loss_values.append(train_loss.detach().cpu().numpy())\n",
    "            test_loss, test_f1 = self.test_loop(input = input, labels = labels, \n",
    "                                       loss_fn = loss_fn)\n",
    "            self.test_loss_values.append(test_loss.detach().cpu().numpy())\n",
    "            print(\n",
    "                f\"{loss_fn._get_name()} Train Loss: {train_loss} |\"\n",
    "                f\"{loss_fn._get_name()} Test Loss: {test_loss}\"\n",
    "            )\n",
    "            print(\n",
    "                f\"F1 Train Score: {train_f1}  | F1 Test Score: {test_f1}\"\n",
    "            )\n",
    "        print(\"Done!\")\n",
    "    \n",
    "    def predict(self, input: torch.Tensor) -> torch.Tensor:\n",
    "        self.eval()\n",
    "        with torch.inference_mode():\n",
    "            logits = self(input)\n",
    "            pred = nn.Softmax(dim=1)(logits).argmax(dim=1)\n",
    "        return pred"
   ]
  },
  {
   "cell_type": "code",
   "execution_count": 23,
   "metadata": {},
   "outputs": [
    {
     "data": {
      "text/plain": [
       "BotNetClassifier(\n",
       "  (f1): MulticlassF1Score()\n",
       "  (layer_1): Linear(in_features=84, out_features=30, bias=True)\n",
       "  (layer_2): Linear(in_features=30, out_features=10, bias=True)\n",
       "  (layer_3): Linear(in_features=10, out_features=6, bias=True)\n",
       "  (relu): ReLU()\n",
       ")"
      ]
     },
     "execution_count": 23,
     "metadata": {},
     "output_type": "execute_result"
    }
   ],
   "source": [
    "# 4. Create an instance of the model and send it to target device\n",
    "botnet_cl = BotNetClassifier().to(device)\n",
    "botnet_cl"
   ]
  },
  {
   "cell_type": "code",
   "execution_count": 24,
   "metadata": {},
   "outputs": [
    {
     "data": {
      "text/plain": [
       "tensor([[ 16219541.6466, -56927594.1368,  19459940.4476,  56225135.2202,\n",
       "         -52848711.4474, -26583584.2109],\n",
       "        [  1527536.4929, -42386992.0813,  17320072.4345,  80144927.6522,\n",
       "         -43052192.9036, -26483085.4649],\n",
       "        [ 15529199.4468, -61502061.9916,  20694104.5652,  75803644.7419,\n",
       "         -69323667.8517, -30827996.1198],\n",
       "        ...,\n",
       "        [  3855499.5252, -45977489.3800,  16666083.6515,  76618050.2813,\n",
       "         -49725501.4039, -26684591.5181],\n",
       "        [ 16241216.9965, -56837179.4351,  19452177.6533,  56018482.8865,\n",
       "         -52669402.8578, -26527799.4007],\n",
       "        [ 16243865.3001, -56836782.5250,  19453129.2123,  56012788.5729,\n",
       "         -52663968.2991, -26526689.3268]], dtype=torch.float64,\n",
       "       grad_fn=<AddmmBackward0>)"
      ]
     },
     "execution_count": 24,
     "metadata": {},
     "output_type": "execute_result"
    }
   ],
   "source": [
    "botnet_cl(X_train.to(device)) # simple litmus test to check whether it's working"
   ]
  },
  {
   "cell_type": "code",
   "execution_count": 25,
   "metadata": {},
   "outputs": [],
   "source": [
    "# Loss and optimizer\n",
    "loss_fn = nn.CrossEntropyLoss()\n",
    "optimizer = torch.optim.SGD(params=botnet_cl.parameters(), \n",
    "                            lr=0.1)\n"
   ]
  },
  {
   "cell_type": "code",
   "execution_count": 26,
   "metadata": {},
   "outputs": [
    {
     "name": "stdout",
     "output_type": "stream",
     "text": [
      "Epoch 1\n",
      "-------------------------------\n",
      "CrossEntropyLoss Train Loss: 57456232.31010731 |CrossEntropyLoss Test Loss: 3.218310987491218e+30\n",
      "F1 Train Score: 0.17732645571231842  | F1 Test Score: 0.7644323110580444\n",
      "Epoch 2\n",
      "-------------------------------\n",
      "CrossEntropyLoss Train Loss: 3.218310987491218e+30 |CrossEntropyLoss Test Loss: 346902.8379035307\n",
      "F1 Train Score: 0.7644323110580444  | F1 Test Score: 0.7644323110580444\n",
      "Epoch 3\n",
      "-------------------------------\n",
      "CrossEntropyLoss Train Loss: 346902.8379035307 |CrossEntropyLoss Test Loss: 1.6184206978328923\n",
      "F1 Train Score: 0.7644323110580444  | F1 Test Score: 0.7644323110580444\n",
      "Epoch 4\n",
      "-------------------------------\n",
      "CrossEntropyLoss Train Loss: 1.6184206978328923 |CrossEntropyLoss Test Loss: 1.579202141773818\n",
      "F1 Train Score: 0.7644323110580444  | F1 Test Score: 0.7644323110580444\n",
      "Epoch 5\n",
      "-------------------------------\n",
      "CrossEntropyLoss Train Loss: 1.579202141773818 |CrossEntropyLoss Test Loss: 1.541491755270979\n",
      "F1 Train Score: 0.7644323110580444  | F1 Test Score: 0.7644323110580444\n",
      "Epoch 6\n",
      "-------------------------------\n",
      "CrossEntropyLoss Train Loss: 1.541491755270979 |CrossEntropyLoss Test Loss: 1.505280966666175\n",
      "F1 Train Score: 0.7644323110580444  | F1 Test Score: 0.7644323110580444\n",
      "Epoch 7\n",
      "-------------------------------\n",
      "CrossEntropyLoss Train Loss: 1.505280966666175 |CrossEntropyLoss Test Loss: 1.470556290032149\n",
      "F1 Train Score: 0.7644323110580444  | F1 Test Score: 0.7644323110580444\n",
      "Epoch 8\n",
      "-------------------------------\n",
      "CrossEntropyLoss Train Loss: 1.470556290032149 |CrossEntropyLoss Test Loss: 1.4372994798967382\n",
      "F1 Train Score: 0.7644323110580444  | F1 Test Score: 0.7644323110580444\n",
      "Epoch 9\n",
      "-------------------------------\n",
      "CrossEntropyLoss Train Loss: 1.4372994798967382 |CrossEntropyLoss Test Loss: 1.4054877665066394\n",
      "F1 Train Score: 0.7644323110580444  | F1 Test Score: 0.7644323110580444\n",
      "Epoch 10\n",
      "-------------------------------\n",
      "CrossEntropyLoss Train Loss: 1.4054877665066394 |CrossEntropyLoss Test Loss: 1.3750941604965774\n",
      "F1 Train Score: 0.7644323110580444  | F1 Test Score: 0.7644323110580444\n",
      "Epoch 11\n",
      "-------------------------------\n",
      "CrossEntropyLoss Train Loss: 1.3750941604965774 |CrossEntropyLoss Test Loss: 1.346087814533585\n",
      "F1 Train Score: 0.7644323110580444  | F1 Test Score: 0.7644323110580444\n",
      "Epoch 12\n",
      "-------------------------------\n",
      "CrossEntropyLoss Train Loss: 1.346087814533585 |CrossEntropyLoss Test Loss: 1.318434428771444\n",
      "F1 Train Score: 0.7644323110580444  | F1 Test Score: 0.7644323110580444\n",
      "Epoch 13\n",
      "-------------------------------\n",
      "CrossEntropyLoss Train Loss: 1.318434428771444 |CrossEntropyLoss Test Loss: 1.2920966867859949\n",
      "F1 Train Score: 0.7644323110580444  | F1 Test Score: 0.7644323110580444\n",
      "Epoch 14\n",
      "-------------------------------\n",
      "CrossEntropyLoss Train Loss: 1.2920966867859949 |CrossEntropyLoss Test Loss: 1.2670347090339666\n",
      "F1 Train Score: 0.7644323110580444  | F1 Test Score: 0.7644323110580444\n",
      "Epoch 15\n",
      "-------------------------------\n",
      "CrossEntropyLoss Train Loss: 1.2670347090339666 |CrossEntropyLoss Test Loss: 1.2432065117174076\n",
      "F1 Train Score: 0.7644323110580444  | F1 Test Score: 0.7644323110580444\n",
      "Epoch 16\n",
      "-------------------------------\n",
      "CrossEntropyLoss Train Loss: 1.2432065117174076 |CrossEntropyLoss Test Loss: 1.2205684601497513\n",
      "F1 Train Score: 0.7644323110580444  | F1 Test Score: 0.7644323110580444\n",
      "Epoch 17\n",
      "-------------------------------\n",
      "CrossEntropyLoss Train Loss: 1.2205684601497513 |CrossEntropyLoss Test Loss: 1.1990757072019267\n",
      "F1 Train Score: 0.7644323110580444  | F1 Test Score: 0.7644323110580444\n",
      "Epoch 18\n",
      "-------------------------------\n",
      "CrossEntropyLoss Train Loss: 1.1990757072019267 |CrossEntropyLoss Test Loss: 1.1786826090490325\n",
      "F1 Train Score: 0.7644323110580444  | F1 Test Score: 0.7644323110580444\n",
      "Epoch 19\n",
      "-------------------------------\n",
      "CrossEntropyLoss Train Loss: 1.1786826090490325 |CrossEntropyLoss Test Loss: 1.159343112137756\n",
      "F1 Train Score: 0.7644323110580444  | F1 Test Score: 0.7644323110580444\n",
      "Epoch 20\n",
      "-------------------------------\n",
      "CrossEntropyLoss Train Loss: 1.159343112137756 |CrossEntropyLoss Test Loss: 1.1410111069626243\n",
      "F1 Train Score: 0.7644323110580444  | F1 Test Score: 0.7644323110580444\n",
      "Epoch 21\n",
      "-------------------------------\n",
      "CrossEntropyLoss Train Loss: 1.1410111069626243 |CrossEntropyLoss Test Loss: 1.1236407458035413\n",
      "F1 Train Score: 0.7644323110580444  | F1 Test Score: 0.7644323110580444\n",
      "Epoch 22\n",
      "-------------------------------\n",
      "CrossEntropyLoss Train Loss: 1.1236407458035413 |CrossEntropyLoss Test Loss: 1.107186722984858\n",
      "F1 Train Score: 0.7644323110580444  | F1 Test Score: 0.7644323110580444\n",
      "Epoch 23\n",
      "-------------------------------\n",
      "CrossEntropyLoss Train Loss: 1.107186722984858 |CrossEntropyLoss Test Loss: 1.0916045174335627\n",
      "F1 Train Score: 0.7644323110580444  | F1 Test Score: 0.7644323110580444\n",
      "Epoch 24\n",
      "-------------------------------\n",
      "CrossEntropyLoss Train Loss: 1.0916045174335627 |CrossEntropyLoss Test Loss: 1.0768505983241972\n",
      "F1 Train Score: 0.7644323110580444  | F1 Test Score: 0.7644323110580444\n",
      "Epoch 25\n",
      "-------------------------------\n",
      "CrossEntropyLoss Train Loss: 1.0768505983241972 |CrossEntropyLoss Test Loss: 1.0628825953984946\n",
      "F1 Train Score: 0.7644323110580444  | F1 Test Score: 0.7644323110580444\n",
      "Epoch 26\n",
      "-------------------------------\n",
      "CrossEntropyLoss Train Loss: 1.0628825953984946 |CrossEntropyLoss Test Loss: 1.049659436147503\n",
      "F1 Train Score: 0.7644323110580444  | F1 Test Score: 0.7644323110580444\n",
      "Epoch 27\n",
      "-------------------------------\n",
      "CrossEntropyLoss Train Loss: 1.049659436147503 |CrossEntropyLoss Test Loss: 1.037141452460355\n",
      "F1 Train Score: 0.7644323110580444  | F1 Test Score: 0.7644323110580444\n",
      "Epoch 28\n",
      "-------------------------------\n",
      "CrossEntropyLoss Train Loss: 1.037141452460355 |CrossEntropyLoss Test Loss: 1.025290459599028\n",
      "F1 Train Score: 0.7644323110580444  | F1 Test Score: 0.7644323110580444\n",
      "Epoch 29\n",
      "-------------------------------\n",
      "CrossEntropyLoss Train Loss: 1.025290459599028 |CrossEntropyLoss Test Loss: 1.0140698104774166\n",
      "F1 Train Score: 0.7644323110580444  | F1 Test Score: 0.7644323110580444\n",
      "Epoch 30\n",
      "-------------------------------\n",
      "CrossEntropyLoss Train Loss: 1.0140698104774166 |CrossEntropyLoss Test Loss: 1.0034444282310462\n",
      "F1 Train Score: 0.7644323110580444  | F1 Test Score: 0.7644323110580444\n",
      "Epoch 31\n",
      "-------------------------------\n",
      "CrossEntropyLoss Train Loss: 1.0034444282310462 |CrossEntropyLoss Test Loss: 0.9933808199852118\n",
      "F1 Train Score: 0.7644323110580444  | F1 Test Score: 0.7644323110580444\n",
      "Epoch 32\n",
      "-------------------------------\n"
     ]
    },
    {
     "name": "stdout",
     "output_type": "stream",
     "text": [
      "CrossEntropyLoss Train Loss: 0.9933808199852118 |CrossEntropyLoss Test Loss: 0.9838470745863791\n",
      "F1 Train Score: 0.7644323110580444  | F1 Test Score: 0.7644323110580444\n",
      "Epoch 33\n",
      "-------------------------------\n",
      "CrossEntropyLoss Train Loss: 0.9838470745863791 |CrossEntropyLoss Test Loss: 0.9748128468739633\n",
      "F1 Train Score: 0.7644323110580444  | F1 Test Score: 0.7644323110580444\n",
      "Epoch 34\n",
      "-------------------------------\n",
      "CrossEntropyLoss Train Loss: 0.9748128468739633 |CrossEntropyLoss Test Loss: 0.9662493308536151\n",
      "F1 Train Score: 0.7644323110580444  | F1 Test Score: 0.7644323110580444\n",
      "Epoch 35\n",
      "-------------------------------\n",
      "CrossEntropyLoss Train Loss: 0.9662493308536151 |CrossEntropyLoss Test Loss: 0.9581292239024459\n",
      "F1 Train Score: 0.7644323110580444  | F1 Test Score: 0.7644323110580444\n",
      "Epoch 36\n",
      "-------------------------------\n",
      "CrossEntropyLoss Train Loss: 0.9581292239024459 |CrossEntropyLoss Test Loss: 0.9504266839020291\n",
      "F1 Train Score: 0.7644323110580444  | F1 Test Score: 0.7644323110580444\n",
      "Epoch 37\n",
      "-------------------------------\n",
      "CrossEntropyLoss Train Loss: 0.9504266839020291 |CrossEntropyLoss Test Loss: 0.9431172809645522\n",
      "F1 Train Score: 0.7644323110580444  | F1 Test Score: 0.7644323110580444\n",
      "Epoch 38\n",
      "-------------------------------\n",
      "CrossEntropyLoss Train Loss: 0.9431172809645522 |CrossEntropyLoss Test Loss: 0.9361779451972201\n",
      "F1 Train Score: 0.7644323110580444  | F1 Test Score: 0.7644323110580444\n",
      "Epoch 39\n",
      "-------------------------------\n",
      "CrossEntropyLoss Train Loss: 0.9361779451972201 |CrossEntropyLoss Test Loss: 0.9295869117438418\n",
      "F1 Train Score: 0.7644323110580444  | F1 Test Score: 0.7644323110580444\n",
      "Epoch 40\n",
      "-------------------------------\n",
      "CrossEntropyLoss Train Loss: 0.9295869117438418 |CrossEntropyLoss Test Loss: 0.9233236641531065\n",
      "F1 Train Score: 0.7644323110580444  | F1 Test Score: 0.7644323110580444\n",
      "Epoch 41\n",
      "-------------------------------\n",
      "CrossEntropyLoss Train Loss: 0.9233236641531065 |CrossEntropyLoss Test Loss: 0.9173688769515317\n",
      "F1 Train Score: 0.7644323110580444  | F1 Test Score: 0.7644323110580444\n",
      "Epoch 42\n",
      "-------------------------------\n",
      "CrossEntropyLoss Train Loss: 0.9173688769515317 |CrossEntropyLoss Test Loss: 0.9117043581459122\n",
      "F1 Train Score: 0.7644323110580444  | F1 Test Score: 0.7644323110580444\n",
      "Epoch 43\n",
      "-------------------------------\n",
      "CrossEntropyLoss Train Loss: 0.9117043581459122 |CrossEntropyLoss Test Loss: 0.9063129922449222\n",
      "F1 Train Score: 0.7644323110580444  | F1 Test Score: 0.7644323110580444\n",
      "Epoch 44\n",
      "-------------------------------\n",
      "CrossEntropyLoss Train Loss: 0.9063129922449222 |CrossEntropyLoss Test Loss: 0.9011786842715274\n",
      "F1 Train Score: 0.7644323110580444  | F1 Test Score: 0.7644323110580444\n",
      "Epoch 45\n",
      "-------------------------------\n",
      "CrossEntropyLoss Train Loss: 0.9011786842715274 |CrossEntropyLoss Test Loss: 0.8962863051359464\n",
      "F1 Train Score: 0.7644323110580444  | F1 Test Score: 0.7644323110580444\n",
      "Epoch 46\n",
      "-------------------------------\n",
      "CrossEntropyLoss Train Loss: 0.8962863051359464 |CrossEntropyLoss Test Loss: 0.8916216386516832\n",
      "F1 Train Score: 0.7644323110580444  | F1 Test Score: 0.7644323110580444\n",
      "Epoch 47\n",
      "-------------------------------\n",
      "CrossEntropyLoss Train Loss: 0.8916216386516832 |CrossEntropyLoss Test Loss: 0.8871713304032786\n",
      "F1 Train Score: 0.7644323110580444  | F1 Test Score: 0.7644323110580444\n",
      "Epoch 48\n",
      "-------------------------------\n",
      "CrossEntropyLoss Train Loss: 0.8871713304032786 |CrossEntropyLoss Test Loss: 0.8829228386124311\n",
      "F1 Train Score: 0.7644323110580444  | F1 Test Score: 0.7644323110580444\n",
      "Epoch 49\n",
      "-------------------------------\n",
      "CrossEntropyLoss Train Loss: 0.8829228386124311 |CrossEntropyLoss Test Loss: 0.8788643870976259\n",
      "F1 Train Score: 0.7644323110580444  | F1 Test Score: 0.7644323110580444\n",
      "Epoch 50\n",
      "-------------------------------\n",
      "CrossEntropyLoss Train Loss: 0.8788643870976259 |CrossEntropyLoss Test Loss: 0.8749849203801001\n",
      "F1 Train Score: 0.7644323110580444  | F1 Test Score: 0.7644323110580444\n",
      "Epoch 51\n",
      "-------------------------------\n",
      "CrossEntropyLoss Train Loss: 0.8749849203801001 |CrossEntropyLoss Test Loss: 0.8712740609545434\n",
      "F1 Train Score: 0.7644323110580444  | F1 Test Score: 0.7644323110580444\n",
      "Epoch 52\n",
      "-------------------------------\n",
      "CrossEntropyLoss Train Loss: 0.8712740609545434 |CrossEntropyLoss Test Loss: 0.8677220687153939\n",
      "F1 Train Score: 0.7644323110580444  | F1 Test Score: 0.7644323110580444\n",
      "Epoch 53\n",
      "-------------------------------\n",
      "CrossEntropyLoss Train Loss: 0.8677220687153939 |CrossEntropyLoss Test Loss: 0.864319802507779\n",
      "F1 Train Score: 0.7644323110580444  | F1 Test Score: 0.7644323110580444\n",
      "Epoch 54\n",
      "-------------------------------\n",
      "CrossEntropyLoss Train Loss: 0.864319802507779 |CrossEntropyLoss Test Loss: 0.8610586837553057\n",
      "F1 Train Score: 0.7644323110580444  | F1 Test Score: 0.7644323110580444\n",
      "Epoch 55\n",
      "-------------------------------\n",
      "CrossEntropyLoss Train Loss: 0.8610586837553057 |CrossEntropyLoss Test Loss: 0.8579306621041264\n",
      "F1 Train Score: 0.7644323110580444  | F1 Test Score: 0.7644323110580444\n",
      "Epoch 56\n",
      "-------------------------------\n",
      "CrossEntropyLoss Train Loss: 0.8579306621041264 |CrossEntropyLoss Test Loss: 0.8549281830133761\n",
      "F1 Train Score: 0.7644323110580444  | F1 Test Score: 0.7644323110580444\n",
      "Epoch 57\n",
      "-------------------------------\n",
      "CrossEntropyLoss Train Loss: 0.8549281830133761 |CrossEntropyLoss Test Loss: 0.8520441572155397\n",
      "F1 Train Score: 0.7644323110580444  | F1 Test Score: 0.7644323110580444\n",
      "Epoch 58\n",
      "-------------------------------\n",
      "CrossEntropyLoss Train Loss: 0.8520441572155397 |CrossEntropyLoss Test Loss: 0.8492719319661026\n",
      "F1 Train Score: 0.7644323110580444  | F1 Test Score: 0.7644323110580444\n",
      "Epoch 59\n",
      "-------------------------------\n",
      "CrossEntropyLoss Train Loss: 0.8492719319661026 |CrossEntropyLoss Test Loss: 0.8466052639994599\n",
      "F1 Train Score: 0.7644323110580444  | F1 Test Score: 0.7644323110580444\n",
      "Epoch 60\n",
      "-------------------------------\n",
      "CrossEntropyLoss Train Loss: 0.8466052639994599 |CrossEntropyLoss Test Loss: 0.8440382941072281\n",
      "F1 Train Score: 0.7644323110580444  | F1 Test Score: 0.7644323110580444\n",
      "Epoch 61\n",
      "-------------------------------\n",
      "CrossEntropyLoss Train Loss: 0.8440382941072281 |CrossEntropyLoss Test Loss: 0.8415655232553839\n",
      "F1 Train Score: 0.7644323110580444  | F1 Test Score: 0.7644323110580444\n",
      "Epoch 62\n",
      "-------------------------------\n",
      "CrossEntropyLoss Train Loss: 0.8415655232553839 |CrossEntropyLoss Test Loss: 0.8391817901579232\n",
      "F1 Train Score: 0.7644323110580444  | F1 Test Score: 0.7644323110580444\n",
      "Epoch 63\n",
      "-------------------------------\n",
      "CrossEntropyLoss Train Loss: 0.8391817901579232 |CrossEntropyLoss Test Loss: 0.8368822502266487\n",
      "F1 Train Score: 0.7644323110580444  | F1 Test Score: 0.7644323110580444\n",
      "Epoch 64\n",
      "-------------------------------\n",
      "CrossEntropyLoss Train Loss: 0.8368822502266487 |CrossEntropyLoss Test Loss: 0.8346623558191512\n",
      "F1 Train Score: 0.7644323110580444  | F1 Test Score: 0.7644323110580444\n",
      "Epoch 65\n",
      "-------------------------------\n",
      "CrossEntropyLoss Train Loss: 0.8346623558191512 |CrossEntropyLoss Test Loss: 0.8325178377099007\n",
      "F1 Train Score: 0.7644323110580444  | F1 Test Score: 0.7644323110580444\n",
      "Epoch 66\n",
      "-------------------------------\n",
      "CrossEntropyLoss Train Loss: 0.8325178377099007 |CrossEntropyLoss Test Loss: 0.8304446877124219\n",
      "F1 Train Score: 0.7644323110580444  | F1 Test Score: 0.7644323110580444\n",
      "Epoch 67\n",
      "-------------------------------\n",
      "CrossEntropyLoss Train Loss: 0.8304446877124219 |CrossEntropyLoss Test Loss: 0.828439142383795\n",
      "F1 Train Score: 0.7644323110580444  | F1 Test Score: 0.7644323110580444\n",
      "Epoch 68\n",
      "-------------------------------\n",
      "CrossEntropyLoss Train Loss: 0.828439142383795 |CrossEntropyLoss Test Loss: 0.8264976677460416\n",
      "F1 Train Score: 0.7644323110580444  | F1 Test Score: 0.7644323110580444\n",
      "Epoch 69\n",
      "-------------------------------\n",
      "CrossEntropyLoss Train Loss: 0.8264976677460416 |CrossEntropyLoss Test Loss: 0.8246169449622918\n",
      "F1 Train Score: 0.7644323110580444  | F1 Test Score: 0.7644323110580444\n",
      "Epoch 70\n",
      "-------------------------------\n",
      "CrossEntropyLoss Train Loss: 0.8246169449622918 |CrossEntropyLoss Test Loss: 0.8227938569089792\n",
      "F1 Train Score: 0.7644323110580444  | F1 Test Score: 0.7644323110580444\n",
      "Epoch 71\n",
      "-------------------------------\n",
      "CrossEntropyLoss Train Loss: 0.8227938569089792 |CrossEntropyLoss Test Loss: 0.8210254755885317\n",
      "F1 Train Score: 0.7644323110580444  | F1 Test Score: 0.7644323110580444\n",
      "Epoch 72\n",
      "-------------------------------\n",
      "CrossEntropyLoss Train Loss: 0.8210254755885317 |CrossEntropyLoss Test Loss: 0.8193090503302306\n",
      "F1 Train Score: 0.7644323110580444  | F1 Test Score: 0.7644323110580444\n",
      "Epoch 73\n",
      "-------------------------------\n",
      "CrossEntropyLoss Train Loss: 0.8193090503302306 |CrossEntropyLoss Test Loss: 0.8176419967299542\n",
      "F1 Train Score: 0.7644323110580444  | F1 Test Score: 0.7644323110580444\n",
      "Epoch 74\n",
      "-------------------------------\n",
      "CrossEntropyLoss Train Loss: 0.8176419967299542 |CrossEntropyLoss Test Loss: 0.8160218862824615\n",
      "F1 Train Score: 0.7644323110580444  | F1 Test Score: 0.7644323110580444\n",
      "Epoch 75\n",
      "-------------------------------\n",
      "CrossEntropyLoss Train Loss: 0.8160218862824615 |CrossEntropyLoss Test Loss: 0.8144464366626994\n",
      "F1 Train Score: 0.7644323110580444  | F1 Test Score: 0.7644323110580444\n",
      "Epoch 76\n",
      "-------------------------------\n",
      "CrossEntropyLoss Train Loss: 0.8144464366626994 |CrossEntropyLoss Test Loss: 0.8129135026152586\n",
      "F1 Train Score: 0.7644323110580444  | F1 Test Score: 0.7644323110580444\n",
      "Epoch 77\n",
      "-------------------------------\n",
      "CrossEntropyLoss Train Loss: 0.8129135026152586 |CrossEntropyLoss Test Loss: 0.8114210674136796\n",
      "F1 Train Score: 0.7644323110580444  | F1 Test Score: 0.7644323110580444\n",
      "Epoch 78\n",
      "-------------------------------\n",
      "CrossEntropyLoss Train Loss: 0.8114210674136796 |CrossEntropyLoss Test Loss: 0.8099672348536667\n",
      "F1 Train Score: 0.7644323110580444  | F1 Test Score: 0.7644323110580444\n",
      "Epoch 79\n",
      "-------------------------------\n",
      "CrossEntropyLoss Train Loss: 0.8099672348536667 |CrossEntropyLoss Test Loss: 0.8085502217465648\n",
      "F1 Train Score: 0.7644323110580444  | F1 Test Score: 0.7644323110580444\n",
      "Epoch 80\n",
      "-------------------------------\n",
      "CrossEntropyLoss Train Loss: 0.8085502217465648 |CrossEntropyLoss Test Loss: 0.8071683508815727\n",
      "F1 Train Score: 0.7644323110580444  | F1 Test Score: 0.7644323110580444\n",
      "Epoch 81\n",
      "-------------------------------\n",
      "CrossEntropyLoss Train Loss: 0.8071683508815727 |CrossEntropyLoss Test Loss: 0.8058200444271558\n",
      "F1 Train Score: 0.7644323110580444  | F1 Test Score: 0.7644323110580444\n",
      "Epoch 82\n",
      "-------------------------------\n",
      "CrossEntropyLoss Train Loss: 0.8058200444271558 |CrossEntropyLoss Test Loss: 0.8045038177440343\n",
      "F1 Train Score: 0.7644323110580444  | F1 Test Score: 0.7644323110580444\n",
      "Epoch 83\n",
      "-------------------------------\n",
      "CrossEntropyLoss Train Loss: 0.8045038177440343 |CrossEntropyLoss Test Loss: 0.8032182735838655\n",
      "F1 Train Score: 0.7644323110580444  | F1 Test Score: 0.7644323110580444\n",
      "Epoch 84\n",
      "-------------------------------\n",
      "CrossEntropyLoss Train Loss: 0.8032182735838655 |CrossEntropyLoss Test Loss: 0.8019620966493826\n",
      "F1 Train Score: 0.7644323110580444  | F1 Test Score: 0.7644323110580444\n",
      "Epoch 85\n",
      "-------------------------------\n",
      "CrossEntropyLoss Train Loss: 0.8019620966493826 |CrossEntropyLoss Test Loss: 0.8007340484933447\n",
      "F1 Train Score: 0.7644323110580444  | F1 Test Score: 0.7644323110580444\n",
      "Epoch 86\n",
      "-------------------------------\n",
      "CrossEntropyLoss Train Loss: 0.8007340484933447 |CrossEntropyLoss Test Loss: 0.7995329627350447\n",
      "F1 Train Score: 0.7644323110580444  | F1 Test Score: 0.7644323110580444\n",
      "Epoch 87\n",
      "-------------------------------\n",
      "CrossEntropyLoss Train Loss: 0.7995329627350447 |CrossEntropyLoss Test Loss: 0.7983577405745231\n",
      "F1 Train Score: 0.7644323110580444  | F1 Test Score: 0.7644323110580444\n",
      "Epoch 88\n",
      "-------------------------------\n",
      "CrossEntropyLoss Train Loss: 0.7983577405745231 |CrossEntropyLoss Test Loss: 0.7972073465858794\n",
      "F1 Train Score: 0.7644323110580444  | F1 Test Score: 0.7644323110580444\n",
      "Epoch 89\n",
      "-------------------------------\n",
      "CrossEntropyLoss Train Loss: 0.7972073465858794 |CrossEntropyLoss Test Loss: 0.7960808047722651\n",
      "F1 Train Score: 0.7644323110580444  | F1 Test Score: 0.7644323110580444\n",
      "Epoch 90\n",
      "-------------------------------\n",
      "CrossEntropyLoss Train Loss: 0.7960808047722651 |CrossEntropyLoss Test Loss: 0.7949771948662497\n",
      "F1 Train Score: 0.7644323110580444  | F1 Test Score: 0.7644323110580444\n",
      "Epoch 91\n",
      "-------------------------------\n",
      "CrossEntropyLoss Train Loss: 0.7949771948662497 |CrossEntropyLoss Test Loss: 0.7938956488602846\n",
      "F1 Train Score: 0.7644323110580444  | F1 Test Score: 0.7644323110580444\n",
      "Epoch 92\n",
      "-------------------------------\n",
      "CrossEntropyLoss Train Loss: 0.7938956488602846 |CrossEntropyLoss Test Loss: 0.7928353477529623\n",
      "F1 Train Score: 0.7644323110580444  | F1 Test Score: 0.7644323110580444\n",
      "Epoch 93\n",
      "-------------------------------\n",
      "CrossEntropyLoss Train Loss: 0.7928353477529623 |CrossEntropyLoss Test Loss: 0.7917955184976638\n",
      "F1 Train Score: 0.7644323110580444  | F1 Test Score: 0.7644323110580444\n",
      "Epoch 94\n",
      "-------------------------------\n",
      "CrossEntropyLoss Train Loss: 0.7917955184976638 |CrossEntropyLoss Test Loss: 0.790775431141045\n",
      "F1 Train Score: 0.7644323110580444  | F1 Test Score: 0.7644323110580444\n",
      "Epoch 95\n",
      "-------------------------------\n",
      "CrossEntropyLoss Train Loss: 0.790775431141045 |CrossEntropyLoss Test Loss: 0.7897743961395904\n",
      "F1 Train Score: 0.7644323110580444  | F1 Test Score: 0.7644323110580444\n",
      "Epoch 96\n",
      "-------------------------------\n",
      "CrossEntropyLoss Train Loss: 0.7897743961395904 |CrossEntropyLoss Test Loss: 0.788791761843214\n",
      "F1 Train Score: 0.7644323110580444  | F1 Test Score: 0.7644323110580444\n",
      "Epoch 97\n",
      "-------------------------------\n",
      "CrossEntropyLoss Train Loss: 0.788791761843214 |CrossEntropyLoss Test Loss: 0.7878269121355661\n",
      "F1 Train Score: 0.7644323110580444  | F1 Test Score: 0.7644323110580444\n",
      "Epoch 98\n",
      "-------------------------------\n",
      "CrossEntropyLoss Train Loss: 0.7878269121355661 |CrossEntropyLoss Test Loss: 0.7868792642213657\n",
      "F1 Train Score: 0.7644323110580444  | F1 Test Score: 0.7644323110580444\n",
      "Epoch 99\n",
      "-------------------------------\n",
      "CrossEntropyLoss Train Loss: 0.7868792642213657 |CrossEntropyLoss Test Loss: 0.7859482665516672\n",
      "F1 Train Score: 0.7644323110580444  | F1 Test Score: 0.7644323110580444\n",
      "Epoch 100\n",
      "-------------------------------\n",
      "CrossEntropyLoss Train Loss: 0.7859482665516672 |CrossEntropyLoss Test Loss: 0.7850333968785472\n",
      "F1 Train Score: 0.7644323110580444  | F1 Test Score: 0.7644323110580444\n",
      "Done!\n"
     ]
    }
   ],
   "source": [
    "botnet_cl.train_model(input= X_train.to(device), labels=y_train.to(device), \n",
    "                      loss_fn=loss_fn, optimizer=optimizer)"
   ]
  },
  {
   "cell_type": "markdown",
   "metadata": {},
   "source": [
    "If we look at the F1 score, and Loss, we'll see that they are very similar, if not equal, on both train and test set. This is odd..."
   ]
  },
  {
   "cell_type": "code",
   "execution_count": 27,
   "metadata": {},
   "outputs": [
    {
     "data": {
      "text/plain": [
       "0    2605\n",
       "Name: count, dtype: int64"
      ]
     },
     "execution_count": 27,
     "metadata": {},
     "output_type": "execute_result"
    }
   ],
   "source": [
    "botnet_predictions = botnet_cl.predict(X_test.to(device))\n",
    "pd.DataFrame(botnet_predictions.cpu().numpy()).value_counts()"
   ]
  },
  {
   "cell_type": "markdown",
   "metadata": {},
   "source": [
    "As expected, due to the imbalanced dataset, the botnet_cl decided to classify all test observations as 'normalware'."
   ]
  },
  {
   "cell_type": "markdown",
   "metadata": {},
   "source": [
    "### Dealing with Imbalance"
   ]
  },
  {
   "cell_type": "markdown",
   "metadata": {},
   "source": [
    "#### Possible Avenues"
   ]
  },
  {
   "cell_type": "markdown",
   "metadata": {},
   "source": [
    "The following are some common approaches to address class imbalance in multi-class classification:\n",
    "\n",
    "**Resampling Techniques**:\n",
    "- Oversampling, or creating synthetic samples of the minority classes(e.g. SMOTE or ADASYN). This may lead to addition of noise.\n",
    "- Undersampling the instances in the majority class. This may lead to loss of crucial information.\n",
    "We may try to use [imbalanced-learn](https://imbalanced-learn.org/stable/index.html)\n",
    "\n",
    "**Weighted Loss Function**:\n",
    "We can give more importance to minority classes during training, by tweeking the weight parameter in the `torch.nn.CrossEntropyLoss`` function. I've experimented this, and in an isolated manner, it's not sufficient.\n",
    "\n",
    "**Ensemble Methods**:\n",
    "Ensemble methods (bagging, boosting, stacking, voting, or weighted avg), can improve performance on imbalance datasets. Maybe trying [Ensemble-PyTorch](https://ensemble-pytorch.readthedocs.io/en/latest/index.html)\n",
    "\n",
    "**Anomaly Detection**:\n",
    "Treat the minority classes as an anomaly/outlier detection problem.\n",
    "\n",
    "**Data Augmentation**:\n",
    "Augment the minority class data by applying various data augmentation techniques such as rotation, scaling, or adding noise. This can increase the diversity of the minority class samples.\n",
    "\n",
    "**Transfer Learning**:\n",
    "Utilize pre-trained models and fine-tune them on your imbalanced dataset. Transfer learning can be especially useful when you have limited data for the minority classes.\n",
    "\n",
    "**Combine Classes**:\n",
    "Merge similar classes to reduce the number of classes, making the problem more balanced.\n",
    "Well, we could merge all malware classes into one, and transform this into a binary classification problem.\n",
    "\n",
    "**Evaluate Performance Metrics**:\n",
    "Instead of using accuracy as the sole performance metric, consider using metrics like precision, recall, F1-score, or area under the ROC curve (AUC) that provide a better understanding of the model's performance on imbalanced data.\n"
   ]
  },
  {
   "cell_type": "code",
   "execution_count": null,
   "metadata": {},
   "outputs": [],
   "source": []
  }
 ],
 "metadata": {
  "kernelspec": {
   "display_name": "Python 3",
   "language": "python",
   "name": "python3"
  },
  "language_info": {
   "codemirror_mode": {
    "name": "ipython",
    "version": 3
   },
   "file_extension": ".py",
   "mimetype": "text/x-python",
   "name": "python",
   "nbconvert_exporter": "python",
   "pygments_lexer": "ipython3",
   "version": "3.10.12"
  }
 },
 "nbformat": 4,
 "nbformat_minor": 2
}
