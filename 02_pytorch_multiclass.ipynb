{
 "cells": [
  {
   "cell_type": "code",
   "execution_count": 11,
   "metadata": {},
   "outputs": [],
   "source": [
    "import torch\n",
    "from torch import nn\n",
    "from torchmetrics import F1Score\n",
    "import pandas as pd\n",
    "import numpy as np\n",
    "from sklearn.preprocessing import LabelEncoder\n",
    "import ipaddress"
   ]
  },
  {
   "cell_type": "markdown",
   "metadata": {},
   "source": [
    "# Botnet Detection\n",
    "## A Multiclass Classification Problem"
   ]
  },
  {
   "cell_type": "markdown",
   "metadata": {},
   "source": [
    "### About The Dataset"
   ]
  },
  {
   "cell_type": "markdown",
   "metadata": {},
   "source": [
    "The dataset can be found [zenodo.org/records/8035724](https://zenodo.org/records/8035724)"
   ]
  },
  {
   "cell_type": "markdown",
   "metadata": {},
   "source": [
    "In the research paper [An empirical comparison of botnet detection methods](https://doi.org/10.1016/j.cose.2014.05.011) we have some information on the features used.\n",
    "1. Source IP address\n",
    "2. Amount of unique source ports used by this source IP address.\n",
    "3. Amount of unique destination IP addresses contacted by this source IP address.\n",
    "4. Amount of unique destination ports contacted by this source IP address.\n",
    "5. Amount of NetFlows used by this source IP address.\n",
    "6. Amount of bytes transferred by this source IP address.\n",
    "7. Amount of packets transferred by this source IP address.\n",
    "\n",
    "After clustering some of this observations, the authors created some more features:\n",
    "1. Total amount of instances in the cluster.\n",
    "2. Total amount of NetFlows in the cluster.\n",
    "3. Amount of source IP addresses.\n",
    "4. Average amount of unique source ports.\n",
    "5. Standard Deviation of the amount of unique source ports.\n",
    "6. Average amount of unique destination IP addresses.\n",
    "7. Standard Deviation of the amount of unique destination IP addresses.\n",
    "8. Average amount of unique destination ports.\n",
    "9. Standard Deviation of the amount of unique destination ports.\n",
    "10. Average amount of NetFlows.\n",
    "11. Standard Deviation of the amount of NetFlows.\n",
    "12. Average amount of bytes transferred.\n",
    "13. Standard Deviation of the amount of bytes transferred.\n",
    "14. Average amount of packets transferred.\n",
    "15. Standard Deviation of the amount of packets transferred.\n",
    "\n",
    "The remaining features should be self-explanatory."
   ]
  },
  {
   "cell_type": "markdown",
   "metadata": {},
   "source": [
    "### Importing Data"
   ]
  },
  {
   "cell_type": "code",
   "execution_count": 3,
   "metadata": {},
   "outputs": [],
   "source": [
    "raw_data = pd.read_csv(\"./data/botnet_multiclass.csv\")"
   ]
  },
  {
   "cell_type": "code",
   "execution_count": 6,
   "metadata": {},
   "outputs": [
    {
     "name": "stdout",
     "output_type": "stream",
     "text": [
      "<class 'pandas.core.frame.DataFrame'>\n",
      "RangeIndex: 176640 entries, 0 to 176639\n",
      "Columns: 85 entries, Unnamed: 0.1 to LABEL\n",
      "dtypes: bool(4), float64(61), int64(17), object(3)\n",
      "memory usage: 109.8+ MB\n"
     ]
    }
   ],
   "source": [
    "raw_data.info(verbose=False)"
   ]
  },
  {
   "cell_type": "code",
   "execution_count": 8,
   "metadata": {},
   "outputs": [
    {
     "data": {
      "text/plain": [
       "True"
      ]
     },
     "execution_count": 8,
     "metadata": {},
     "output_type": "execute_result"
    }
   ],
   "source": [
    "(raw_data.isna()).any().any() # True means that we have missing data"
   ]
  },
  {
   "cell_type": "markdown",
   "metadata": {},
   "source": [
    "We need to transform the object columns, and deal with missing data."
   ]
  },
  {
   "cell_type": "markdown",
   "metadata": {},
   "source": [
    "### Preprocessing The Data"
   ]
  },
  {
   "cell_type": "code",
   "execution_count": 13,
   "metadata": {},
   "outputs": [],
   "source": [
    "preprocessed_data = raw_data.copy(deep=True) \n",
    "# since we have enough memory, it should be ok. This will avoid messing the original data.\n"
   ]
  },
  {
   "cell_type": "code",
   "execution_count": 14,
   "metadata": {},
   "outputs": [
    {
     "data": {
      "text/plain": [
       "Index(['DST_IP', 'SRC_IP', 'LABEL'], dtype='object')"
      ]
     },
     "execution_count": 14,
     "metadata": {},
     "output_type": "execute_result"
    }
   ],
   "source": [
    "object_columns = preprocessed_data.select_dtypes(include=['object'])\n",
    "object_columns.columns\n"
   ]
  },
  {
   "cell_type": "markdown",
   "metadata": {},
   "source": [
    "Let's encode the destination and source IP."
   ]
  },
  {
   "cell_type": "code",
   "execution_count": 17,
   "metadata": {},
   "outputs": [
    {
     "data": {
      "text/html": [
       "<div>\n",
       "<style scoped>\n",
       "    .dataframe tbody tr th:only-of-type {\n",
       "        vertical-align: middle;\n",
       "    }\n",
       "\n",
       "    .dataframe tbody tr th {\n",
       "        vertical-align: top;\n",
       "    }\n",
       "\n",
       "    .dataframe thead th {\n",
       "        text-align: right;\n",
       "    }\n",
       "</style>\n",
       "<table border=\"1\" class=\"dataframe\">\n",
       "  <thead>\n",
       "    <tr style=\"text-align: right;\">\n",
       "      <th></th>\n",
       "      <th>DST_IP</th>\n",
       "      <th>SRC_IP</th>\n",
       "    </tr>\n",
       "  </thead>\n",
       "  <tbody>\n",
       "    <tr>\n",
       "      <th>0</th>\n",
       "      <td>147.32.80.9</td>\n",
       "      <td>147.32.84.165</td>\n",
       "    </tr>\n",
       "    <tr>\n",
       "      <th>1</th>\n",
       "      <td>147.32.84.255</td>\n",
       "      <td>147.32.84.165</td>\n",
       "    </tr>\n",
       "    <tr>\n",
       "      <th>2</th>\n",
       "      <td>147.32.84.255</td>\n",
       "      <td>147.32.84.165</td>\n",
       "    </tr>\n",
       "    <tr>\n",
       "      <th>3</th>\n",
       "      <td>147.32.84.165.</td>\n",
       "      <td>60.190.222.139</td>\n",
       "    </tr>\n",
       "    <tr>\n",
       "      <th>4</th>\n",
       "      <td>60.190.222.139.</td>\n",
       "      <td>147.32.84.165</td>\n",
       "    </tr>\n",
       "  </tbody>\n",
       "</table>\n",
       "</div>"
      ],
      "text/plain": [
       "            DST_IP          SRC_IP\n",
       "0      147.32.80.9   147.32.84.165\n",
       "1    147.32.84.255   147.32.84.165\n",
       "2    147.32.84.255   147.32.84.165\n",
       "3   147.32.84.165.  60.190.222.139\n",
       "4  60.190.222.139.   147.32.84.165"
      ]
     },
     "execution_count": 17,
     "metadata": {},
     "output_type": "execute_result"
    }
   ],
   "source": [
    "object_columns[['DST_IP', 'SRC_IP']].head()\n",
    "# notice row with index 3. There's an extra final \".\""
   ]
  },
  {
   "cell_type": "code",
   "execution_count": 18,
   "metadata": {},
   "outputs": [],
   "source": [
    "def ip_encoding(ip_address:str) -> int:\n",
    "    return int(ipaddress.ip_address(ip_address.rstrip(\".\")))"
   ]
  },
  {
   "cell_type": "code",
   "execution_count": 22,
   "metadata": {},
   "outputs": [
    {
     "data": {
      "text/plain": [
       "IPv4Address('147.32.84.165')"
      ]
     },
     "execution_count": 22,
     "metadata": {},
     "output_type": "execute_result"
    }
   ],
   "source": [
    "ipaddress.ip_address(ip_encoding(\"147.32.84.165.\"))"
   ]
  },
  {
   "cell_type": "code",
   "execution_count": 23,
   "metadata": {},
   "outputs": [
    {
     "data": {
      "text/html": [
       "<div>\n",
       "<style scoped>\n",
       "    .dataframe tbody tr th:only-of-type {\n",
       "        vertical-align: middle;\n",
       "    }\n",
       "\n",
       "    .dataframe tbody tr th {\n",
       "        vertical-align: top;\n",
       "    }\n",
       "\n",
       "    .dataframe thead th {\n",
       "        text-align: right;\n",
       "    }\n",
       "</style>\n",
       "<table border=\"1\" class=\"dataframe\">\n",
       "  <thead>\n",
       "    <tr style=\"text-align: right;\">\n",
       "      <th></th>\n",
       "      <th>DST_IP</th>\n",
       "      <th>SRC_IP</th>\n",
       "    </tr>\n",
       "  </thead>\n",
       "  <tbody>\n",
       "    <tr>\n",
       "      <th>0</th>\n",
       "      <td>2468368393</td>\n",
       "      <td>2468369573</td>\n",
       "    </tr>\n",
       "    <tr>\n",
       "      <th>1</th>\n",
       "      <td>2468369663</td>\n",
       "      <td>2468369573</td>\n",
       "    </tr>\n",
       "    <tr>\n",
       "      <th>2</th>\n",
       "      <td>2468369663</td>\n",
       "      <td>2468369573</td>\n",
       "    </tr>\n",
       "    <tr>\n",
       "      <th>3</th>\n",
       "      <td>2468369573</td>\n",
       "      <td>1019141771</td>\n",
       "    </tr>\n",
       "    <tr>\n",
       "      <th>4</th>\n",
       "      <td>1019141771</td>\n",
       "      <td>2468369573</td>\n",
       "    </tr>\n",
       "  </tbody>\n",
       "</table>\n",
       "</div>"
      ],
      "text/plain": [
       "       DST_IP      SRC_IP\n",
       "0  2468368393  2468369573\n",
       "1  2468369663  2468369573\n",
       "2  2468369663  2468369573\n",
       "3  2468369573  1019141771\n",
       "4  1019141771  2468369573"
      ]
     },
     "execution_count": 23,
     "metadata": {},
     "output_type": "execute_result"
    }
   ],
   "source": [
    "preprocessed_data['DST_IP'] = preprocessed_data['DST_IP'].apply(ip_encoding)\n",
    "preprocessed_data[\"SRC_IP\"] = preprocessed_data['SRC_IP'].apply(ip_encoding)\n",
    "preprocessed_data[['DST_IP',\"SRC_IP\"]].head()"
   ]
  },
  {
   "cell_type": "code",
   "execution_count": 24,
   "metadata": {},
   "outputs": [],
   "source": [
    "label_enc = LabelEncoder()\n",
    "preprocessed_data[\"LABEL\"] = label_enc.fit_transform(preprocessed_data[\"LABEL\"])"
   ]
  },
  {
   "cell_type": "code",
   "execution_count": 31,
   "metadata": {},
   "outputs": [
    {
     "data": {
      "text/plain": [
       "array(['clear', 'donbot', 'fast_flux', 'neris', 'qvod', 'rbot'],\n",
       "      dtype=object)"
      ]
     },
     "execution_count": 31,
     "metadata": {},
     "output_type": "execute_result"
    }
   ],
   "source": [
    "label_enc.classes_"
   ]
  },
  {
   "cell_type": "markdown",
   "metadata": {},
   "source": [
    "The zero class represents 'normalware', whereas all the remaining classes represent some sort of malware, more specifically botnets."
   ]
  },
  {
   "cell_type": "markdown",
   "metadata": {},
   "source": [
    "Let's do a small EDA on the classes."
   ]
  },
  {
   "cell_type": "code",
   "execution_count": 29,
   "metadata": {},
   "outputs": [
    {
     "data": {
      "text/plain": [
       "LABEL\n",
       "0        165573\n",
       "3          6332\n",
       "2          4367\n",
       "4           286\n",
       "5            55\n",
       "1            27\n",
       "Name: count, dtype: int64"
      ]
     },
     "execution_count": 29,
     "metadata": {},
     "output_type": "execute_result"
    }
   ],
   "source": [
    "labels_counts = preprocessed_data[[\"LABEL\"]].value_counts()\n",
    "labels_counts"
   ]
  },
  {
   "cell_type": "code",
   "execution_count": 32,
   "metadata": {},
   "outputs": [
    {
     "data": {
      "image/png": "[encoded data removed]",
      "text/plain": [
       "<Figure size 640x480 with 1 Axes>"
      ]
     },
     "metadata": {},
     "output_type": "display_data"
    }
   ],
   "source": [
    "labels_counts.plot.pie(); # type: ignore"
   ]
  },
  {
   "cell_type": "markdown",
   "metadata": {},
   "source": [
    "Our dataset is highly imbalanced, to the point that classifying some classes could be considered as outlier detection. There will be a section focused on this problem later on.\n",
    "\n",
    "For now, we will conduct our analysis without worrying to much on the class imbalance problem."
   ]
  },
  {
   "cell_type": "code",
   "execution_count": 37,
   "metadata": {},
   "outputs": [
    {
     "data": {
      "text/plain": [
       "(150598, 85)"
      ]
     },
     "execution_count": 37,
     "metadata": {},
     "output_type": "execute_result"
    }
   ],
   "source": [
    "preprocessed_data[preprocessed_data.isna().any(axis=1)].shape\n",
    "# there are 150598 row whose values have at least an NaN, leaving us with \n",
    "# only 26042 rows which are completely filled. Even though torch NN can take NaNs values, \n",
    "# these will contaminate the calculations, resulting in predictions full of NaNs. "
   ]
  },
  {
   "cell_type": "markdown",
   "metadata": {},
   "source": [
    "To keep this notebook simple, I'll just drop the rows with NaN's values.\n",
    "In a more demanding setting, we should decide on an imputation method for each feature, *separately*. And depending on the chosen method, we may only apply it after we've splitted the data into train and test set."
   ]
  },
  {
   "cell_type": "code",
   "execution_count": 39,
   "metadata": {},
   "outputs": [
    {
     "name": "stdout",
     "output_type": "stream",
     "text": [
      "<class 'pandas.core.frame.DataFrame'>\n",
      "Index: 26042 entries, 1 to 176607\n",
      "Columns: 85 entries, Unnamed: 0.1 to LABEL\n",
      "dtypes: bool(4), float64(61), int64(20)\n",
      "memory usage: 16.4 MB\n"
     ]
    }
   ],
   "source": [
    "preprocessed_data = preprocessed_data.dropna()\n",
    "preprocessed_data.info(verbose=False)"
   ]
  },
  {
   "cell_type": "markdown",
   "metadata": {},
   "source": [
    "### Splitting The Data"
   ]
  },
  {
   "cell_type": "code",
   "execution_count": 88,
   "metadata": {},
   "outputs": [
    {
     "data": {
      "text/plain": [
       "(torch.Size([3571, 241]),\n",
       " torch.Size([3571, 1]),\n",
       " torch.Size([893, 241]),\n",
       " torch.Size([893, 1]))"
      ]
     },
     "execution_count": 88,
     "metadata": {},
     "output_type": "execute_result"
    }
   ],
   "source": [
    "# Separating features and label\n",
    "X = torch.tensor(preprocessed_data.iloc[:,:-1].values, dtype=torch.float16)\n",
    "# float16 uses less memory\n",
    "y = torch.tensor(preprocessed_data[[\"Label\"]].values, dtype=torch.float16)\n",
    "# Create train/test split\n",
    "train_split = int(0.8 * len(X)) # 80% of data used for training set, 20% for testing \n",
    "X_train, y_train = X[:train_split], y[:train_split]\n",
    "\n",
    "X_test, y_test = X[train_split:], y[train_split:]\n",
    "\n",
    "X_train.shape, y_train.shape, X_test.shape, y_test.shape"
   ]
  },
  {
   "cell_type": "markdown",
   "metadata": {},
   "source": [
    "### Creating The Model"
   ]
  },
  {
   "cell_type": "code",
   "execution_count": 80,
   "metadata": {},
   "outputs": [
    {
     "data": {
      "text/plain": [
       "'cuda'"
      ]
     },
     "execution_count": 80,
     "metadata": {},
     "output_type": "execute_result"
    }
   ],
   "source": [
    "# Make device agnostic code\n",
    "device = \"cuda\" if torch.cuda.is_available() else \"cpu\"\n",
    "device"
   ]
  },
  {
   "cell_type": "code",
   "execution_count": 100,
   "metadata": {},
   "outputs": [],
   "source": [
    "# 1. Construct a model class that subclasses nn.Module\n",
    "class BotNetClassifier(nn.Module):\n",
    "    def __init__(self, bce_loss_with_logits:bool = True):\n",
    "        super().__init__()\n",
    "        self.train_loss_values = []\n",
    "        self.test_loss_values = []\n",
    "        self.bce_loss_with_logits = bce_loss_with_logits\n",
    "        self.f1 = F1Score(task=\"binary\", num_classes=2)\n",
    "        # 2. Create 2 nn.Linear layers capable of handling X and y input and output shapes\n",
    "        self.layer_1 = nn.Linear(in_features=241, out_features=5, dtype=torch.float16) \n",
    "        # takes in 241 features (X), produces 5 features\n",
    "        # since the matrix is very sparse, I wonder if we can compress the information\n",
    "        self.layer_2 = nn.Linear(in_features=5, out_features=1, dtype=torch.float16)\n",
    "            # produces 1 feature, since we're in a binary classification problem\n",
    "        if not bce_loss_with_logits:\n",
    "            self.layer_3 = nn.Sigmoid(in_features=5, out_features=1)\n",
    "        \n",
    "\n",
    "    def forward(self, x):\n",
    "        return  self.layer_2(self.layer_1(x))\n",
    "    \n",
    "    def train_loop(self, input: torch.Tensor, labels: torch.Tensor, \n",
    "                   loss_fn:nn.modules.loss._Loss, optimizer: torch.optim.Optimizer):\n",
    "        self.train()\n",
    "        # Forward pass on train data using the forward() method\n",
    "        if self.bce_loss_with_logits:\n",
    "            # bce_loss_with_logits works directly with logits\n",
    "            pred = self(input)\n",
    "        else:\n",
    "            pred = torch.round(self(input)) \n",
    "        loss = loss_fn(pred, labels)\n",
    "        f1_value = self.f1(pred, labels)\n",
    "        # Backpropagation\n",
    "        loss.backward()\n",
    "        # optimize parameters\n",
    "        optimizer.step()\n",
    "        # restart cycle\n",
    "        optimizer.zero_grad()\n",
    "        return loss, f1_value\n",
    "    \n",
    "    def test_loop(self, input: torch.Tensor, labels: torch.Tensor, \n",
    "                  loss_fn:nn.modules.loss._Loss):\n",
    "        self.eval()\n",
    "        with torch.inference_mode():\n",
    "            pred = self(input)\n",
    "            loss = loss_fn(pred, labels)\n",
    "            f1_value = self.f1(pred, labels)\n",
    "        return loss, f1_value\n",
    "    \n",
    "    def train_model(self, input: torch.Tensor, labels: torch.Tensor,\n",
    "                    loss_fn:nn.modules.loss._Loss, optimizer: torch.optim.Optimizer,\n",
    "                    n_epochs:int = 100):\n",
    "        for epoch in range(1,n_epochs+1):\n",
    "            print(f\"Epoch {epoch}\\n-------------------------------\")\n",
    "            train_loss, train_f1 = self.train_loop(input = input, labels = labels, \n",
    "                                         loss_fn = loss_fn, optimizer = optimizer)\n",
    "            self.train_loss_values.append(train_loss.detach().cpu().numpy())\n",
    "            test_loss, test_f1 = self.test_loop(input = input, labels = labels, \n",
    "                                       loss_fn = loss_fn)\n",
    "            self.test_loss_values.append(test_loss.detach().cpu().numpy())\n",
    "            print(\n",
    "                f\"{loss_fn._get_name()} Train Loss: {train_loss} |\"\n",
    "                f\"{loss_fn._get_name()} Test Loss: {test_loss}\"\n",
    "            )\n",
    "            print(\n",
    "                f\"F1 Train Score: {train_f1}  | F1 Test Score: {test_f1}\"\n",
    "            )\n",
    "        print(\"Done!\")\n",
    "    \n",
    "    def predict(self, input: torch.Tensor) -> torch.Tensor:\n",
    "        self.eval()\n",
    "        with torch.inference_mode():\n",
    "            pred = self(input)\n",
    "        return pred"
   ]
  },
  {
   "cell_type": "code",
   "execution_count": 101,
   "metadata": {},
   "outputs": [
    {
     "data": {
      "text/plain": [
       "MalwareLinearClassifier(\n",
       "  (f1): BinaryF1Score()\n",
       "  (layer_1): Linear(in_features=241, out_features=5, bias=True)\n",
       "  (layer_2): Linear(in_features=5, out_features=1, bias=True)\n",
       ")"
      ]
     },
     "execution_count": 101,
     "metadata": {},
     "output_type": "execute_result"
    }
   ],
   "source": [
    "# 4. Create an instance of the model and send it to target device\n",
    "linear_cl = BotNetClassifier().to(device)\n",
    "linear_cl"
   ]
  },
  {
   "cell_type": "code",
   "execution_count": 102,
   "metadata": {},
   "outputs": [
    {
     "data": {
      "text/plain": [
       "tensor([[-0.2734],\n",
       "        [-0.2812],\n",
       "        [-0.2986],\n",
       "        ...,\n",
       "        [-0.3066],\n",
       "        [-0.3188],\n",
       "        [-0.3511]], device='cuda:0', dtype=torch.float16,\n",
       "       grad_fn=<AddmmBackward0>)"
      ]
     },
     "execution_count": 102,
     "metadata": {},
     "output_type": "execute_result"
    }
   ],
   "source": [
    "linear_cl(X_train.to(device)) # simple litmus test to check whether it's working"
   ]
  },
  {
   "cell_type": "code",
   "execution_count": 103,
   "metadata": {},
   "outputs": [],
   "source": [
    "# Create a loss function\n",
    "# loss_fn = nn.BCELoss() # BCELoss = no sigmoid built-in\n",
    "loss_fn = nn.BCEWithLogitsLoss() # BCEWithLogitsLoss = sigmoid built-in\n",
    "\n",
    "# Create an optimizer\n",
    "optimizer = torch.optim.SGD(params=linear_cl.parameters(), \n",
    "                            lr=0.1)\n"
   ]
  },
  {
   "cell_type": "code",
   "execution_count": 104,
   "metadata": {},
   "outputs": [
    {
     "name": "stdout",
     "output_type": "stream",
     "text": [
      "Epoch 1\n",
      "-------------------------------\n",
      "BCEWithLogitsLoss Train Loss: 0.8291015625 |BCEWithLogitsLoss Test Loss: 0.71533203125\n",
      "F1 Train Score: 0.0  | F1 Test Score: 0.3769735097885132\n",
      "Epoch 2\n",
      "-------------------------------\n",
      "BCEWithLogitsLoss Train Loss: 0.71533203125 |BCEWithLogitsLoss Test Loss: 0.62548828125\n",
      "F1 Train Score: 0.3769735097885132  | F1 Test Score: 0.9489138722419739\n",
      "Epoch 3\n",
      "-------------------------------\n",
      "BCEWithLogitsLoss Train Loss: 0.62548828125 |BCEWithLogitsLoss Test Loss: 0.552734375\n",
      "F1 Train Score: 0.9489138722419739  | F1 Test Score: 0.9493876099586487\n",
      "Epoch 4\n",
      "-------------------------------\n",
      "BCEWithLogitsLoss Train Loss: 0.552734375 |BCEWithLogitsLoss Test Loss: 0.49365234375\n",
      "F1 Train Score: 0.9493876099586487  | F1 Test Score: 0.9497058987617493\n",
      "Epoch 5\n",
      "-------------------------------\n",
      "BCEWithLogitsLoss Train Loss: 0.49365234375 |BCEWithLogitsLoss Test Loss: 0.4462890625\n",
      "F1 Train Score: 0.9497058987617493  | F1 Test Score: 0.9497058987617493\n",
      "Epoch 6\n",
      "-------------------------------\n",
      "BCEWithLogitsLoss Train Loss: 0.4462890625 |BCEWithLogitsLoss Test Loss: 0.408447265625\n",
      "F1 Train Score: 0.9497058987617493  | F1 Test Score: 0.9498603343963623\n",
      "Epoch 7\n",
      "-------------------------------\n",
      "BCEWithLogitsLoss Train Loss: 0.408447265625 |BCEWithLogitsLoss Test Loss: 0.378173828125\n",
      "F1 Train Score: 0.9498603343963623  | F1 Test Score: 0.954166054725647\n",
      "Epoch 8\n",
      "-------------------------------\n",
      "BCEWithLogitsLoss Train Loss: 0.378173828125 |BCEWithLogitsLoss Test Loss: 0.353759765625\n",
      "F1 Train Score: 0.954166054725647  | F1 Test Score: 0.954166054725647\n",
      "Epoch 9\n",
      "-------------------------------\n",
      "BCEWithLogitsLoss Train Loss: 0.353759765625 |BCEWithLogitsLoss Test Loss: 0.334228515625\n",
      "F1 Train Score: 0.954166054725647  | F1 Test Score: 0.954166054725647\n",
      "Epoch 10\n",
      "-------------------------------\n",
      "BCEWithLogitsLoss Train Loss: 0.334228515625 |BCEWithLogitsLoss Test Loss: 0.318115234375\n",
      "F1 Train Score: 0.954166054725647  | F1 Test Score: 0.954166054725647\n",
      "Epoch 11\n",
      "-------------------------------\n",
      "BCEWithLogitsLoss Train Loss: 0.318115234375 |BCEWithLogitsLoss Test Loss: 0.3046875\n",
      "F1 Train Score: 0.954166054725647  | F1 Test Score: 0.954166054725647\n",
      "Epoch 12\n",
      "-------------------------------\n",
      "BCEWithLogitsLoss Train Loss: 0.3046875 |BCEWithLogitsLoss Test Loss: 0.293212890625\n",
      "F1 Train Score: 0.954166054725647  | F1 Test Score: 0.954166054725647\n",
      "Epoch 13\n",
      "-------------------------------\n",
      "BCEWithLogitsLoss Train Loss: 0.293212890625 |BCEWithLogitsLoss Test Loss: 0.28369140625\n",
      "F1 Train Score: 0.954166054725647  | F1 Test Score: 0.954166054725647\n",
      "Epoch 14\n",
      "-------------------------------\n",
      "BCEWithLogitsLoss Train Loss: 0.28369140625 |BCEWithLogitsLoss Test Loss: 0.27490234375\n",
      "F1 Train Score: 0.954166054725647  | F1 Test Score: 0.954166054725647\n",
      "Epoch 15\n",
      "-------------------------------\n",
      "BCEWithLogitsLoss Train Loss: 0.27490234375 |BCEWithLogitsLoss Test Loss: 0.26708984375\n",
      "F1 Train Score: 0.954166054725647  | F1 Test Score: 0.954166054725647\n",
      "Epoch 16\n",
      "-------------------------------\n",
      "BCEWithLogitsLoss Train Loss: 0.26708984375 |BCEWithLogitsLoss Test Loss: 0.26025390625\n",
      "F1 Train Score: 0.954166054725647  | F1 Test Score: 0.954166054725647\n",
      "Epoch 17\n",
      "-------------------------------\n",
      "BCEWithLogitsLoss Train Loss: 0.26025390625 |BCEWithLogitsLoss Test Loss: 0.253662109375\n",
      "F1 Train Score: 0.954166054725647  | F1 Test Score: 0.954166054725647\n",
      "Epoch 18\n",
      "-------------------------------\n",
      "BCEWithLogitsLoss Train Loss: 0.253662109375 |BCEWithLogitsLoss Test Loss: 0.24755859375\n",
      "F1 Train Score: 0.954166054725647  | F1 Test Score: 0.954166054725647\n",
      "Epoch 19\n",
      "-------------------------------\n",
      "BCEWithLogitsLoss Train Loss: 0.24755859375 |BCEWithLogitsLoss Test Loss: 0.24169921875\n",
      "F1 Train Score: 0.954166054725647  | F1 Test Score: 0.954166054725647\n",
      "Epoch 20\n",
      "-------------------------------\n",
      "BCEWithLogitsLoss Train Loss: 0.24169921875 |BCEWithLogitsLoss Test Loss: 0.236083984375\n",
      "F1 Train Score: 0.954166054725647  | F1 Test Score: 0.954166054725647\n",
      "Epoch 21\n",
      "-------------------------------\n",
      "BCEWithLogitsLoss Train Loss: 0.236083984375 |BCEWithLogitsLoss Test Loss: 0.230712890625\n",
      "F1 Train Score: 0.954166054725647  | F1 Test Score: 0.954166054725647\n",
      "Epoch 22\n",
      "-------------------------------\n",
      "BCEWithLogitsLoss Train Loss: 0.230712890625 |BCEWithLogitsLoss Test Loss: 0.2257080078125\n",
      "F1 Train Score: 0.954166054725647  | F1 Test Score: 0.954166054725647\n",
      "Epoch 23\n",
      "-------------------------------\n",
      "BCEWithLogitsLoss Train Loss: 0.2257080078125 |BCEWithLogitsLoss Test Loss: 0.220703125\n",
      "F1 Train Score: 0.954166054725647  | F1 Test Score: 0.954166054725647\n",
      "Epoch 24\n",
      "-------------------------------\n",
      "BCEWithLogitsLoss Train Loss: 0.220703125 |BCEWithLogitsLoss Test Loss: 0.2158203125\n",
      "F1 Train Score: 0.954166054725647  | F1 Test Score: 0.9544456005096436\n",
      "Epoch 25\n",
      "-------------------------------\n",
      "BCEWithLogitsLoss Train Loss: 0.2158203125 |BCEWithLogitsLoss Test Loss: 0.2110595703125\n",
      "F1 Train Score: 0.9544456005096436  | F1 Test Score: 0.9544456005096436\n",
      "Epoch 26\n",
      "-------------------------------\n",
      "BCEWithLogitsLoss Train Loss: 0.2110595703125 |BCEWithLogitsLoss Test Loss: 0.2064208984375\n",
      "F1 Train Score: 0.9544456005096436  | F1 Test Score: 0.9547252655029297\n",
      "Epoch 27\n",
      "-------------------------------\n",
      "BCEWithLogitsLoss Train Loss: 0.2064208984375 |BCEWithLogitsLoss Test Loss: 0.20166015625\n",
      "F1 Train Score: 0.9547252655029297  | F1 Test Score: 0.9547252655029297\n",
      "Epoch 28\n",
      "-------------------------------\n",
      "BCEWithLogitsLoss Train Loss: 0.20166015625 |BCEWithLogitsLoss Test Loss: 0.197265625\n",
      "F1 Train Score: 0.9547252655029297  | F1 Test Score: 0.9551451206207275\n",
      "Epoch 29\n",
      "-------------------------------\n",
      "BCEWithLogitsLoss Train Loss: 0.197265625 |BCEWithLogitsLoss Test Loss: 0.19287109375\n",
      "F1 Train Score: 0.9551451206207275  | F1 Test Score: 0.9554252028465271\n",
      "Epoch 30\n",
      "-------------------------------\n",
      "BCEWithLogitsLoss Train Loss: 0.19287109375 |BCEWithLogitsLoss Test Loss: 0.1884765625\n",
      "F1 Train Score: 0.9554252028465271  | F1 Test Score: 0.955565333366394\n",
      "Epoch 31\n",
      "-------------------------------\n",
      "BCEWithLogitsLoss Train Loss: 0.1884765625 |BCEWithLogitsLoss Test Loss: 0.184326171875\n",
      "F1 Train Score: 0.955565333366394  | F1 Test Score: 0.9564068913459778\n",
      "Epoch 32\n",
      "-------------------------------\n",
      "BCEWithLogitsLoss Train Loss: 0.184326171875 |BCEWithLogitsLoss Test Loss: 0.1800537109375\n",
      "F1 Train Score: 0.9564068913459778  | F1 Test Score: 0.9579535722732544\n",
      "Epoch 33\n",
      "-------------------------------\n",
      "BCEWithLogitsLoss Train Loss: 0.1800537109375 |BCEWithLogitsLoss Test Loss: 0.176025390625\n",
      "F1 Train Score: 0.9579535722732544  | F1 Test Score: 0.9586582183837891\n",
      "Epoch 34\n",
      "-------------------------------\n",
      "BCEWithLogitsLoss Train Loss: 0.176025390625 |BCEWithLogitsLoss Test Loss: 0.1719970703125\n",
      "F1 Train Score: 0.9586582183837891  | F1 Test Score: 0.959787905216217\n",
      "Epoch 35\n",
      "-------------------------------\n",
      "BCEWithLogitsLoss Train Loss: 0.1719970703125 |BCEWithLogitsLoss Test Loss: 0.1680908203125\n",
      "F1 Train Score: 0.959787905216217  | F1 Test Score: 0.9614874124526978\n",
      "Epoch 36\n",
      "-------------------------------\n",
      "BCEWithLogitsLoss Train Loss: 0.1680908203125 |BCEWithLogitsLoss Test Loss: 0.1641845703125\n",
      "F1 Train Score: 0.9614874124526978  | F1 Test Score: 0.9619131684303284\n",
      "Epoch 37\n",
      "-------------------------------\n",
      "BCEWithLogitsLoss Train Loss: 0.1641845703125 |BCEWithLogitsLoss Test Loss: 0.1602783203125\n",
      "F1 Train Score: 0.9619131684303284  | F1 Test Score: 0.9637627601623535\n",
      "Epoch 38\n",
      "-------------------------------\n",
      "BCEWithLogitsLoss Train Loss: 0.1602783203125 |BCEWithLogitsLoss Test Loss: 0.1566162109375\n",
      "F1 Train Score: 0.9637627601623535  | F1 Test Score: 0.9656194448471069\n",
      "Epoch 39\n",
      "-------------------------------\n",
      "BCEWithLogitsLoss Train Loss: 0.1566162109375 |BCEWithLogitsLoss Test Loss: 0.15283203125\n",
      "F1 Train Score: 0.9656194448471069  | F1 Test Score: 0.9663354754447937\n",
      "Epoch 40\n",
      "-------------------------------\n",
      "BCEWithLogitsLoss Train Loss: 0.15283203125 |BCEWithLogitsLoss Test Loss: 0.1495361328125\n",
      "F1 Train Score: 0.9663354754447937  | F1 Test Score: 0.9666221737861633\n",
      "Epoch 41\n",
      "-------------------------------\n",
      "BCEWithLogitsLoss Train Loss: 0.1495361328125 |BCEWithLogitsLoss Test Loss: 0.1461181640625\n",
      "F1 Train Score: 0.9666221737861633  | F1 Test Score: 0.9676269888877869\n",
      "Epoch 42\n",
      "-------------------------------\n",
      "BCEWithLogitsLoss Train Loss: 0.1461181640625 |BCEWithLogitsLoss Test Loss: 0.1427001953125\n",
      "F1 Train Score: 0.9676269888877869  | F1 Test Score: 0.9684898853302002\n",
      "Epoch 43\n",
      "-------------------------------\n",
      "BCEWithLogitsLoss Train Loss: 0.1427001953125 |BCEWithLogitsLoss Test Loss: 0.139404296875\n",
      "F1 Train Score: 0.9684898853302002  | F1 Test Score: 0.9690660238265991\n",
      "Epoch 44\n",
      "-------------------------------\n",
      "BCEWithLogitsLoss Train Loss: 0.139404296875 |BCEWithLogitsLoss Test Loss: 0.136474609375\n",
      "F1 Train Score: 0.9690660238265991  | F1 Test Score: 0.9700759053230286\n",
      "Epoch 45\n",
      "-------------------------------\n",
      "BCEWithLogitsLoss Train Loss: 0.136474609375 |BCEWithLogitsLoss Test Loss: 0.13330078125\n",
      "F1 Train Score: 0.9700759053230286  | F1 Test Score: 0.9707985520362854\n",
      "Epoch 46\n",
      "-------------------------------\n",
      "BCEWithLogitsLoss Train Loss: 0.13330078125 |BCEWithLogitsLoss Test Loss: 0.1302490234375\n",
      "F1 Train Score: 0.9707985520362854  | F1 Test Score: 0.9716671705245972\n",
      "Epoch 47\n",
      "-------------------------------\n",
      "BCEWithLogitsLoss Train Loss: 0.1302490234375 |BCEWithLogitsLoss Test Loss: 0.12744140625\n",
      "F1 Train Score: 0.9716671705245972  | F1 Test Score: 0.9735544323921204\n",
      "Epoch 48\n",
      "-------------------------------\n",
      "BCEWithLogitsLoss Train Loss: 0.12744140625 |BCEWithLogitsLoss Test Loss: 0.12469482421875\n",
      "F1 Train Score: 0.9735544323921204  | F1 Test Score: 0.9747195243835449\n",
      "Epoch 49\n",
      "-------------------------------\n",
      "BCEWithLogitsLoss Train Loss: 0.12469482421875 |BCEWithLogitsLoss Test Loss: 0.12188720703125\n",
      "F1 Train Score: 0.9747195243835449  | F1 Test Score: 0.9760335683822632\n",
      "Epoch 50\n",
      "-------------------------------\n",
      "BCEWithLogitsLoss Train Loss: 0.12188720703125 |BCEWithLogitsLoss Test Loss: 0.119384765625\n",
      "F1 Train Score: 0.9760335683822632  | F1 Test Score: 0.9766187071800232\n",
      "Epoch 51\n",
      "-------------------------------\n",
      "BCEWithLogitsLoss Train Loss: 0.119384765625 |BCEWithLogitsLoss Test Loss: 0.1165771484375\n",
      "F1 Train Score: 0.9766187071800232  | F1 Test Score: 0.9777911305427551\n",
      "Epoch 52\n",
      "-------------------------------\n",
      "BCEWithLogitsLoss Train Loss: 0.1165771484375 |BCEWithLogitsLoss Test Loss: 0.1142578125\n",
      "F1 Train Score: 0.9777911305427551  | F1 Test Score: 0.9789663553237915\n",
      "Epoch 53\n",
      "-------------------------------\n",
      "BCEWithLogitsLoss Train Loss: 0.1142578125 |BCEWithLogitsLoss Test Loss: 0.1119384765625\n",
      "F1 Train Score: 0.9789663553237915  | F1 Test Score: 0.9795550107955933\n",
      "Epoch 54\n",
      "-------------------------------\n",
      "BCEWithLogitsLoss Train Loss: 0.1119384765625 |BCEWithLogitsLoss Test Loss: 0.1094970703125\n",
      "F1 Train Score: 0.9795550107955933  | F1 Test Score: 0.9802918434143066\n",
      "Epoch 55\n",
      "-------------------------------\n",
      "BCEWithLogitsLoss Train Loss: 0.1094970703125 |BCEWithLogitsLoss Test Loss: 0.10736083984375\n",
      "F1 Train Score: 0.9802918434143066  | F1 Test Score: 0.9825090765953064\n",
      "Epoch 56\n",
      "-------------------------------\n",
      "BCEWithLogitsLoss Train Loss: 0.10736083984375 |BCEWithLogitsLoss Test Loss: 0.10528564453125\n",
      "F1 Train Score: 0.9825090765953064  | F1 Test Score: 0.9825090765953064\n",
      "Epoch 57\n",
      "-------------------------------\n",
      "BCEWithLogitsLoss Train Loss: 0.10528564453125 |BCEWithLogitsLoss Test Loss: 0.10321044921875\n",
      "F1 Train Score: 0.9825090765953064  | F1 Test Score: 0.9833987355232239\n",
      "Epoch 58\n",
      "-------------------------------\n",
      "BCEWithLogitsLoss Train Loss: 0.10321044921875 |BCEWithLogitsLoss Test Loss: 0.10125732421875\n",
      "F1 Train Score: 0.9833987355232239  | F1 Test Score: 0.9841413497924805\n",
      "Epoch 59\n",
      "-------------------------------\n",
      "BCEWithLogitsLoss Train Loss: 0.10125732421875 |BCEWithLogitsLoss Test Loss: 0.0989990234375\n",
      "F1 Train Score: 0.9841413497924805  | F1 Test Score: 0.9845874905586243\n",
      "Epoch 60\n",
      "-------------------------------\n",
      "BCEWithLogitsLoss Train Loss: 0.0989990234375 |BCEWithLogitsLoss Test Loss: 0.09710693359375\n",
      "F1 Train Score: 0.9845874905586243  | F1 Test Score: 0.9845874905586243\n",
      "Epoch 61\n",
      "-------------------------------\n",
      "BCEWithLogitsLoss Train Loss: 0.09710693359375 |BCEWithLogitsLoss Test Loss: 0.09527587890625\n",
      "F1 Train Score: 0.9845874905586243  | F1 Test Score: 0.9853318929672241\n",
      "Epoch 62\n",
      "-------------------------------\n",
      "BCEWithLogitsLoss Train Loss: 0.09527587890625 |BCEWithLogitsLoss Test Loss: 0.09356689453125\n",
      "F1 Train Score: 0.9853318929672241  | F1 Test Score: 0.9857791066169739\n",
      "Epoch 63\n",
      "-------------------------------\n",
      "BCEWithLogitsLoss Train Loss: 0.09356689453125 |BCEWithLogitsLoss Test Loss: 0.09197998046875\n",
      "F1 Train Score: 0.9857791066169739  | F1 Test Score: 0.9863760471343994\n",
      "Epoch 64\n",
      "-------------------------------\n",
      "BCEWithLogitsLoss Train Loss: 0.09197998046875 |BCEWithLogitsLoss Test Loss: 0.09033203125\n",
      "F1 Train Score: 0.9863760471343994  | F1 Test Score: 0.9865253567695618\n",
      "Epoch 65\n",
      "-------------------------------\n",
      "BCEWithLogitsLoss Train Loss: 0.09033203125 |BCEWithLogitsLoss Test Loss: 0.0887451171875\n",
      "F1 Train Score: 0.9865253567695618  | F1 Test Score: 0.9862183928489685\n",
      "Epoch 66\n",
      "-------------------------------\n",
      "BCEWithLogitsLoss Train Loss: 0.0887451171875 |BCEWithLogitsLoss Test Loss: 0.087158203125\n",
      "F1 Train Score: 0.9862183928489685  | F1 Test Score: 0.987261176109314\n",
      "Epoch 67\n",
      "-------------------------------\n",
      "BCEWithLogitsLoss Train Loss: 0.087158203125 |BCEWithLogitsLoss Test Loss: 0.0855712890625\n",
      "F1 Train Score: 0.987261176109314  | F1 Test Score: 0.9880103468894958\n",
      "Epoch 68\n",
      "-------------------------------\n",
      "BCEWithLogitsLoss Train Loss: 0.0855712890625 |BCEWithLogitsLoss Test Loss: 0.08416748046875\n",
      "F1 Train Score: 0.9880103468894958  | F1 Test Score: 0.9883103370666504\n",
      "Epoch 69\n",
      "-------------------------------\n",
      "BCEWithLogitsLoss Train Loss: 0.08416748046875 |BCEWithLogitsLoss Test Loss: 0.08282470703125\n",
      "F1 Train Score: 0.9883103370666504  | F1 Test Score: 0.9886105060577393\n",
      "Epoch 70\n",
      "-------------------------------\n",
      "BCEWithLogitsLoss Train Loss: 0.08282470703125 |BCEWithLogitsLoss Test Loss: 0.08148193359375\n",
      "F1 Train Score: 0.9886105060577393  | F1 Test Score: 0.9889108538627625\n",
      "Epoch 71\n",
      "-------------------------------\n",
      "BCEWithLogitsLoss Train Loss: 0.08148193359375 |BCEWithLogitsLoss Test Loss: 0.080078125\n",
      "F1 Train Score: 0.9889108538627625  | F1 Test Score: 0.9889108538627625\n",
      "Epoch 72\n",
      "-------------------------------\n",
      "BCEWithLogitsLoss Train Loss: 0.080078125 |BCEWithLogitsLoss Test Loss: 0.078857421875\n",
      "F1 Train Score: 0.9889108538627625  | F1 Test Score: 0.9895120859146118\n",
      "Epoch 73\n",
      "-------------------------------\n",
      "BCEWithLogitsLoss Train Loss: 0.078857421875 |BCEWithLogitsLoss Test Loss: 0.07757568359375\n",
      "F1 Train Score: 0.9895120859146118  | F1 Test Score: 0.9904153347015381\n",
      "Epoch 74\n",
      "-------------------------------\n",
      "BCEWithLogitsLoss Train Loss: 0.07757568359375 |BCEWithLogitsLoss Test Loss: 0.07635498046875\n",
      "F1 Train Score: 0.9904153347015381  | F1 Test Score: 0.990108072757721\n",
      "Epoch 75\n",
      "-------------------------------\n",
      "BCEWithLogitsLoss Train Loss: 0.07635498046875 |BCEWithLogitsLoss Test Loss: 0.0753173828125\n",
      "F1 Train Score: 0.990108072757721  | F1 Test Score: 0.9902587532997131\n",
      "Epoch 76\n",
      "-------------------------------\n",
      "BCEWithLogitsLoss Train Loss: 0.0753173828125 |BCEWithLogitsLoss Test Loss: 0.07415771484375\n",
      "F1 Train Score: 0.9902587532997131  | F1 Test Score: 0.9905602931976318\n",
      "Epoch 77\n",
      "-------------------------------\n",
      "BCEWithLogitsLoss Train Loss: 0.07415771484375 |BCEWithLogitsLoss Test Loss: 0.07318115234375\n",
      "F1 Train Score: 0.9905602931976318  | F1 Test Score: 0.9905602931976318\n",
      "Epoch 78\n",
      "-------------------------------\n",
      "BCEWithLogitsLoss Train Loss: 0.07318115234375 |BCEWithLogitsLoss Test Loss: 0.07208251953125\n",
      "F1 Train Score: 0.9905602931976318  | F1 Test Score: 0.9905602931976318\n",
      "Epoch 79\n",
      "-------------------------------\n",
      "BCEWithLogitsLoss Train Loss: 0.07208251953125 |BCEWithLogitsLoss Test Loss: 0.07098388671875\n",
      "F1 Train Score: 0.9905602931976318  | F1 Test Score: 0.9916171431541443\n",
      "Epoch 80\n",
      "-------------------------------\n",
      "BCEWithLogitsLoss Train Loss: 0.07098388671875 |BCEWithLogitsLoss Test Loss: 0.070068359375\n",
      "F1 Train Score: 0.9916171431541443  | F1 Test Score: 0.9919195175170898\n",
      "Epoch 81\n",
      "-------------------------------\n",
      "BCEWithLogitsLoss Train Loss: 0.070068359375 |BCEWithLogitsLoss Test Loss: 0.069091796875\n",
      "F1 Train Score: 0.9919195175170898  | F1 Test Score: 0.9922220706939697\n",
      "Epoch 82\n",
      "-------------------------------\n",
      "BCEWithLogitsLoss Train Loss: 0.069091796875 |BCEWithLogitsLoss Test Loss: 0.068115234375\n",
      "F1 Train Score: 0.9922220706939697  | F1 Test Score: 0.9922220706939697\n",
      "Epoch 83\n",
      "-------------------------------\n",
      "BCEWithLogitsLoss Train Loss: 0.068115234375 |BCEWithLogitsLoss Test Loss: 0.06732177734375\n",
      "F1 Train Score: 0.9922220706939697  | F1 Test Score: 0.9928277134895325\n",
      "Epoch 84\n",
      "-------------------------------\n",
      "BCEWithLogitsLoss Train Loss: 0.06732177734375 |BCEWithLogitsLoss Test Loss: 0.06622314453125\n",
      "F1 Train Score: 0.9928277134895325  | F1 Test Score: 0.9926739931106567\n",
      "Epoch 85\n",
      "-------------------------------\n",
      "BCEWithLogitsLoss Train Loss: 0.06622314453125 |BCEWithLogitsLoss Test Loss: 0.06549072265625\n",
      "F1 Train Score: 0.9926739931106567  | F1 Test Score: 0.9929770827293396\n",
      "Epoch 86\n",
      "-------------------------------\n",
      "BCEWithLogitsLoss Train Loss: 0.06549072265625 |BCEWithLogitsLoss Test Loss: 0.06451416015625\n",
      "F1 Train Score: 0.9929770827293396  | F1 Test Score: 0.9929770827293396\n",
      "Epoch 87\n",
      "-------------------------------\n",
      "BCEWithLogitsLoss Train Loss: 0.06451416015625 |BCEWithLogitsLoss Test Loss: 0.0638427734375\n",
      "F1 Train Score: 0.9929770827293396  | F1 Test Score: 0.9929770827293396\n",
      "Epoch 88\n",
      "-------------------------------\n",
      "BCEWithLogitsLoss Train Loss: 0.0638427734375 |BCEWithLogitsLoss Test Loss: 0.0628662109375\n",
      "F1 Train Score: 0.9929770827293396  | F1 Test Score: 0.9929770827293396\n",
      "Epoch 89\n",
      "-------------------------------\n",
      "BCEWithLogitsLoss Train Loss: 0.0628662109375 |BCEWithLogitsLoss Test Loss: 0.062255859375\n",
      "F1 Train Score: 0.9929770827293396  | F1 Test Score: 0.9929770827293396\n",
      "Epoch 90\n",
      "-------------------------------\n",
      "BCEWithLogitsLoss Train Loss: 0.062255859375 |BCEWithLogitsLoss Test Loss: 0.061553955078125\n",
      "F1 Train Score: 0.9929770827293396  | F1 Test Score: 0.9929770827293396\n",
      "Epoch 91\n",
      "-------------------------------\n",
      "BCEWithLogitsLoss Train Loss: 0.061553955078125 |BCEWithLogitsLoss Test Loss: 0.060760498046875\n",
      "F1 Train Score: 0.9929770827293396  | F1 Test Score: 0.9928211569786072\n",
      "Epoch 92\n",
      "-------------------------------\n",
      "BCEWithLogitsLoss Train Loss: 0.060760498046875 |BCEWithLogitsLoss Test Loss: 0.0601806640625\n",
      "F1 Train Score: 0.9928211569786072  | F1 Test Score: 0.9928211569786072\n",
      "Epoch 93\n",
      "-------------------------------\n",
      "BCEWithLogitsLoss Train Loss: 0.0601806640625 |BCEWithLogitsLoss Test Loss: 0.05950927734375\n",
      "F1 Train Score: 0.9928211569786072  | F1 Test Score: 0.9928211569786072\n",
      "Epoch 94\n",
      "-------------------------------\n",
      "BCEWithLogitsLoss Train Loss: 0.05950927734375 |BCEWithLogitsLoss Test Loss: 0.058685302734375\n",
      "F1 Train Score: 0.9928211569786072  | F1 Test Score: 0.9926672577857971\n",
      "Epoch 95\n",
      "-------------------------------\n",
      "BCEWithLogitsLoss Train Loss: 0.058685302734375 |BCEWithLogitsLoss Test Loss: 0.05804443359375\n",
      "F1 Train Score: 0.9926672577857971  | F1 Test Score: 0.9926672577857971\n",
      "Epoch 96\n",
      "-------------------------------\n",
      "BCEWithLogitsLoss Train Loss: 0.05804443359375 |BCEWithLogitsLoss Test Loss: 0.0574951171875\n",
      "F1 Train Score: 0.9926672577857971  | F1 Test Score: 0.9926672577857971\n",
      "Epoch 97\n",
      "-------------------------------\n",
      "BCEWithLogitsLoss Train Loss: 0.0574951171875 |BCEWithLogitsLoss Test Loss: 0.057037353515625\n",
      "F1 Train Score: 0.9926672577857971  | F1 Test Score: 0.993122398853302\n",
      "Epoch 98\n",
      "-------------------------------\n",
      "BCEWithLogitsLoss Train Loss: 0.057037353515625 |BCEWithLogitsLoss Test Loss: 0.05615234375\n",
      "F1 Train Score: 0.993122398853302  | F1 Test Score: 0.993122398853302\n",
      "Epoch 99\n",
      "-------------------------------\n",
      "BCEWithLogitsLoss Train Loss: 0.05615234375 |BCEWithLogitsLoss Test Loss: 0.055694580078125\n",
      "F1 Train Score: 0.993122398853302  | F1 Test Score: 0.993122398853302\n",
      "Epoch 100\n",
      "-------------------------------\n",
      "BCEWithLogitsLoss Train Loss: 0.055694580078125 |BCEWithLogitsLoss Test Loss: 0.05517578125\n",
      "F1 Train Score: 0.993122398853302  | F1 Test Score: 0.993122398853302\n",
      "Done!\n"
     ]
    }
   ],
   "source": [
    "linear_cl.train_model(input= X_train.to(device), labels=y_train.to(device), \n",
    "                      loss_fn=loss_fn, optimizer=optimizer)"
   ]
  },
  {
   "cell_type": "markdown",
   "metadata": {},
   "source": [
    "An F1 of +99%, with such a simple model seems too good to be true...\n",
    "There could be some sort of label data leakage in the dataset, specially if we look at the test and train F1 score and notice that they are equal. This is highly suspicious."
   ]
  },
  {
   "cell_type": "markdown",
   "metadata": {},
   "source": [
    "# Credit Score Brackets\n",
    "## A MultiClass Problem\n"
   ]
  },
  {
   "cell_type": "markdown",
   "metadata": {},
   "source": [
    "The dataset can be found [here](https://www.kaggle.com/datasets/sudhanshu2198/processed-data-credit-score)"
   ]
  },
  {
   "cell_type": "code",
   "execution_count": null,
   "metadata": {},
   "outputs": [],
   "source": []
  }
 ],
 "metadata": {
  "kernelspec": {
   "display_name": "Python 3",
   "language": "python",
   "name": "python3"
  },
  "language_info": {
   "codemirror_mode": {
    "name": "ipython",
    "version": 3
   },
   "file_extension": ".py",
   "mimetype": "text/x-python",
   "name": "python",
   "nbconvert_exporter": "python",
   "pygments_lexer": "ipython3",
   "version": "3.10.12"
  }
 },
 "nbformat": 4,
 "nbformat_minor": 2
}
