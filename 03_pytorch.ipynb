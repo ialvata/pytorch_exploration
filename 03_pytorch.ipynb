{
 "cells": [
  {
   "cell_type": "markdown",
   "metadata": {},
   "source": [
    "# Computer Vision"
   ]
  },
  {
   "cell_type": "code",
   "execution_count": 41,
   "metadata": {},
   "outputs": [],
   "source": [
    "from typing import Any\n",
    "\n",
    "from sklearn.metrics import classification_report\n",
    "\n",
    "# Import PyTorch\n",
    "import torch\n",
    "from torch import nn\n",
    "\n",
    "# Import torchvision \n",
    "import torchvision\n",
    "from torchvision import datasets\n",
    "from torch.utils.data import DataLoader\n",
    "from torchvision.transforms import ToTensor\n",
    "\n",
    "# Import matplotlib for visualization\n",
    "import matplotlib.pyplot as plt\n",
    "\n",
    "from torchmetrics import F1Score\n",
    "from torchmetrics.classification import MulticlassROC\n",
    "\n",
    "# Import tqdm for progress bar\n",
    "from tqdm.auto import tqdm"
   ]
  },
  {
   "cell_type": "code",
   "execution_count": 2,
   "metadata": {},
   "outputs": [
    {
     "data": {
      "text/plain": [
       "'cuda'"
      ]
     },
     "execution_count": 2,
     "metadata": {},
     "output_type": "execute_result"
    }
   ],
   "source": [
    "# Make device agnostic code\n",
    "device = \"cuda\" if torch.cuda.is_available() else \"cpu\"\n",
    "device"
   ]
  },
  {
   "cell_type": "markdown",
   "metadata": {},
   "source": [
    "## Importing The Data"
   ]
  },
  {
   "cell_type": "code",
   "execution_count": 3,
   "metadata": {},
   "outputs": [],
   "source": [
    "# Setup training data\n",
    "train_data = datasets.FashionMNIST(\n",
    "    root=\"data\", # where to download data to?\n",
    "    train=True, # get training data\n",
    "    download=True, # download data if it doesn't exist on disk\n",
    "    transform=ToTensor(), # images come as PIL format, we want to turn into Torch tensors\n",
    "    target_transform=None # you can transform labels as well\n",
    ")\n",
    "\n",
    "# Setup testing data\n",
    "test_data = datasets.FashionMNIST(\n",
    "    root=\"data\",\n",
    "    train=False, # get test data\n",
    "    download=True,\n",
    "    transform=ToTensor()\n",
    ")"
   ]
  },
  {
   "cell_type": "code",
   "execution_count": 4,
   "metadata": {},
   "outputs": [
    {
     "data": {
      "text/plain": [
       "torch.Size([60000, 28, 28])"
      ]
     },
     "execution_count": 4,
     "metadata": {},
     "output_type": "execute_result"
    }
   ],
   "source": [
    "train_data.data.shape"
   ]
  },
  {
   "cell_type": "code",
   "execution_count": 5,
   "metadata": {},
   "outputs": [
    {
     "data": {
      "text/plain": [
       "Dataset FashionMNIST\n",
       "    Number of datapoints: 60000\n",
       "    Root location: data\n",
       "    Split: Train\n",
       "    StandardTransform\n",
       "Transform: ToTensor()"
      ]
     },
     "execution_count": 5,
     "metadata": {},
     "output_type": "execute_result"
    }
   ],
   "source": [
    "train_data"
   ]
  },
  {
   "cell_type": "code",
   "execution_count": 6,
   "metadata": {},
   "outputs": [
    {
     "data": {
      "text/plain": [
       "torch.Size([10000, 28, 28])"
      ]
     },
     "execution_count": 6,
     "metadata": {},
     "output_type": "execute_result"
    }
   ],
   "source": [
    "test_data.data.shape"
   ]
  },
  {
   "cell_type": "code",
   "execution_count": 7,
   "metadata": {},
   "outputs": [
    {
     "data": {
      "text/plain": [
       "Dataset FashionMNIST\n",
       "    Number of datapoints: 10000\n",
       "    Root location: data\n",
       "    Split: Test\n",
       "    StandardTransform\n",
       "Transform: ToTensor()"
      ]
     },
     "execution_count": 7,
     "metadata": {},
     "output_type": "execute_result"
    }
   ],
   "source": [
    "test_data"
   ]
  },
  {
   "cell_type": "code",
   "execution_count": 8,
   "metadata": {},
   "outputs": [
    {
     "data": {
      "text/plain": [
       "torch.Size([28, 28])"
      ]
     },
     "execution_count": 8,
     "metadata": {},
     "output_type": "execute_result"
    }
   ],
   "source": [
    "train_data.data[0].shape"
   ]
  },
  {
   "cell_type": "code",
   "execution_count": 9,
   "metadata": {},
   "outputs": [
    {
     "data": {
      "text/plain": [
       "(torch.Size([1, 28, 28]), 9)"
      ]
     },
     "execution_count": 9,
     "metadata": {},
     "output_type": "execute_result"
    }
   ],
   "source": [
    "# official documentation uses this.\n",
    "image, label = train_data[0]\n",
    "image.shape, label"
   ]
  },
  {
   "cell_type": "markdown",
   "metadata": {},
   "source": [
    "Check this [link](https://pytorch.org/tutorials/intermediate/memory_format_tutorial.html) for info on how to change the image format to suit best practices."
   ]
  },
  {
   "cell_type": "code",
   "execution_count": 10,
   "metadata": {},
   "outputs": [],
   "source": [
    "labels_map = {\n",
    "    0: \"T-Shirt\",\n",
    "    1: \"Trouser\",\n",
    "    2: \"Pullover\",\n",
    "    3: \"Dress\",\n",
    "    4: \"Coat\",\n",
    "    5: \"Sandal\",\n",
    "    6: \"Shirt\",\n",
    "    7: \"Sneaker\",\n",
    "    8: \"Bag\",\n",
    "    9: \"Ankle Boot\",\n",
    "}"
   ]
  },
  {
   "cell_type": "code",
   "execution_count": 11,
   "metadata": {},
   "outputs": [
    {
     "data": {
      "image/png": "[encoded data removed]",
      "text/plain": [
       "<Figure size 800x800 with 9 Axes>"
      ]
     },
     "metadata": {},
     "output_type": "display_data"
    }
   ],
   "source": [
    "figure = plt.figure(figsize=(8, 8))\n",
    "cols, rows = 3, 3\n",
    "for i in range(1, cols * rows + 1):\n",
    "    sample_idx = torch.randint(len(train_data), size=(1,)).item()\n",
    "    img, label = train_data[sample_idx] # type: ignore\n",
    "    figure.add_subplot(rows, cols, i)\n",
    "    plt.title(labels_map[label])\n",
    "    plt.axis(\"off\")\n",
    "    plt.imshow(img.squeeze(), cmap=\"gray\")\n",
    "plt.show()"
   ]
  },
  {
   "cell_type": "markdown",
   "metadata": {},
   "source": [
    "## Creating DataLoaders"
   ]
  },
  {
   "cell_type": "markdown",
   "metadata": {},
   "source": [
    "The Dataset retrieves our dataset’s features and labels one sample at a time. While training a model, we typically want to pass samples in “minibatches”(memory), reshuffle the data at every epoch to reduce model overfitting, and use Python’s multiprocessing to speed up data retrieval. DataLoaders does this for us! :)"
   ]
  },
  {
   "cell_type": "code",
   "execution_count": 12,
   "metadata": {},
   "outputs": [],
   "source": [
    "# Setup the batch size hyperparameter\n",
    "BATCH_SIZE = 32\n",
    "\n",
    "# Turn datasets into iterables (batches)\n",
    "train_dataloader = DataLoader(train_data, # dataset to turn into iterable\n",
    "    batch_size=BATCH_SIZE, # how many samples per batch? \n",
    "    shuffle=True # shuffle data every epoch?\n",
    ")\n",
    "\n",
    "test_dataloader = DataLoader(test_data,\n",
    "    batch_size=BATCH_SIZE,\n",
    "    shuffle=False # don't necessarily have to shuffle the testing data\n",
    ")\n"
   ]
  },
  {
   "cell_type": "code",
   "execution_count": 13,
   "metadata": {},
   "outputs": [
    {
     "data": {
      "text/plain": [
       "1875"
      ]
     },
     "execution_count": 13,
     "metadata": {},
     "output_type": "execute_result"
    }
   ],
   "source": [
    "len(train_dataloader) # * 32 = 60000"
   ]
  },
  {
   "cell_type": "code",
   "execution_count": 14,
   "metadata": {},
   "outputs": [
    {
     "data": {
      "text/plain": [
       "60000"
      ]
     },
     "execution_count": 14,
     "metadata": {},
     "output_type": "execute_result"
    }
   ],
   "source": [
    "len(train_dataloader.dataset)"
   ]
  },
  {
   "cell_type": "code",
   "execution_count": 15,
   "metadata": {},
   "outputs": [
    {
     "data": {
      "text/plain": [
       "2"
      ]
     },
     "execution_count": 15,
     "metadata": {},
     "output_type": "execute_result"
    }
   ],
   "source": [
    "len(train_dataloader.dataset[0]) # tuple -> (X,y)"
   ]
  },
  {
   "cell_type": "code",
   "execution_count": 16,
   "metadata": {},
   "outputs": [
    {
     "data": {
      "text/plain": [
       "torch.Size([1, 28, 28])"
      ]
     },
     "execution_count": 16,
     "metadata": {},
     "output_type": "execute_result"
    }
   ],
   "source": [
    "train_dataloader.dataset[0][0].shape"
   ]
  },
  {
   "cell_type": "markdown",
   "metadata": {},
   "source": [
    "## Building Models"
   ]
  },
  {
   "cell_type": "markdown",
   "metadata": {},
   "source": [
    "In this notebook, we will build 2 different models."
   ]
  },
  {
   "cell_type": "markdown",
   "metadata": {},
   "source": [
    "### BoilerPlate Class"
   ]
  },
  {
   "cell_type": "markdown",
   "metadata": {},
   "source": [
    "This class has the training and testing loops, which are the same for all models.\n",
    "The methods common to all models are: \n",
    "- train_loop, where we compute one training epoch. It may include several training steps, in case of batch training.\n",
    "- testing_loop, where we compute one testing epoch. Again, it may include several test steps. Usually this loop receives validation data.\n",
    "- train_model: method which goes through each epoch, and trains the model.\n",
    "- predict: method to compute model predictions."
   ]
  },
  {
   "cell_type": "code",
   "execution_count": 66,
   "metadata": {},
   "outputs": [],
   "source": [
    "class BoilerPlate(nn.Module):\n",
    "    def __init__(self):\n",
    "        super().__init__()\n",
    "        self.train_loss_values = []\n",
    "        self.test_loss_values = []\n",
    "        self.f1_macro = F1Score(task=\"multiclass\", num_classes= len(labels_map),\n",
    "                          average=\"macro\")\n",
    "        self.f1_micro = F1Score(task=\"multiclass\", num_classes= len(labels_map),\n",
    "                          average=\"micro\")\n",
    "\n",
    "    def train_loop(self, dataloader: DataLoader, loss_fn:nn.modules.loss._Loss, \n",
    "                   optimizer: torch.optim.Optimizer) -> tuple[Any,Any,Any]:\n",
    "        size = len(dataloader.dataset) # type: ignore\n",
    "        num_batches = len(dataloader)\n",
    "        self.train()\n",
    "        train_loss,f1_macro, f1_micro = 0,0,0\n",
    "        for batch, (input, labels) in enumerate(dataloader):\n",
    "            input, labels = input.to(device), labels.to(device)\n",
    "            # CrossEntropyLoss works directly with logits as inputs\n",
    "            logits = self(input)\n",
    "            # CrossEntropyLoss expects a tensor of type long as targets.\n",
    "            # if we don't do the type casting outside the loss function, we get an error\n",
    "            labels_long = labels.to(dtype=torch.long)\n",
    "            loss = loss_fn(logits, labels_long)\n",
    "            # we'll add the loss accross batches/steps, and in the end average them.\n",
    "            # and for this, we need a new variable like train_loss to avoid  \n",
    "            # RuntimeError:Trying to backward through the graph a second time\n",
    "            train_loss += loss\n",
    "            # return rows with prob like quantities of size 6\n",
    "            pred = nn.Softmax(dim=1)(logits).argmax(dim=1) \n",
    "            f1_macro += self.f1_macro(pred, labels)\n",
    "            f1_micro += self.f1_micro(pred, labels)  \n",
    "            # also equal to self.f1(nn.Softmax(dim=1)(logits), labels)\n",
    "            optimizer.zero_grad()\n",
    "            loss.backward()\n",
    "            optimizer.step()\n",
    "            \n",
    "            # uncomment below for printing losses during batch training\n",
    "            # if batch % 100 == 0:\n",
    "            # loss, current = loss.item(), (batch + 1) * len(X)\n",
    "            # print(f\"loss: {loss:>7f}  [{current:>5d}/{size:>5d}]\")\n",
    "        train_loss /= num_batches\n",
    "        f1_macro /= f1_macro # I'm not sure about the implications of avg over f1 score...\n",
    "        f1_micro /= f1_micro\n",
    "        return train_loss, f1_macro, f1_micro\n",
    "    \n",
    "    def test_loop(self, dataloader:DataLoader, \n",
    "                  loss_fn:nn.modules.loss._Loss) -> tuple[Any,Any,Any]:\n",
    "        num_batches = len(dataloader)\n",
    "        self.eval()\n",
    "        with torch.inference_mode():\n",
    "            test_loss,f1_macro, f1_micro = 0,0,0\n",
    "            for batch, (input, labels) in enumerate(dataloader):\n",
    "                input, labels = input.to(device), labels.to(device)\n",
    "                logits = self(input)\n",
    "                labels_long = labels.to(dtype=torch.long)\n",
    "                loss = loss_fn(logits, labels_long)\n",
    "                test_loss += loss\n",
    "                pred = nn.Softmax(dim=1)(logits).argmax(dim=1)\n",
    "                f1_macro += self.f1_macro(pred, labels)\n",
    "                f1_micro += self.f1_micro(pred, labels)\n",
    "            test_loss /= num_batches\n",
    "            f1_macro /= f1_macro\n",
    "            f1_micro /= f1_micro \n",
    "        return test_loss, f1_macro, f1_micro\n",
    "    \n",
    "    def train_model(self, dataloader:DataLoader, loss_fn:nn.modules.loss._Loss, \n",
    "                    optimizer: torch.optim.Optimizer, n_epochs:int = 100) -> None:\n",
    "        for epoch in tqdm(range(1,n_epochs+1)):\n",
    "            print(f\"\\nEpoch {epoch}\\n-------------------------------\")\n",
    "            train_loss, train_f1_macro, train_f1_micro = self.train_loop(\n",
    "                dataloader = dataloader, loss_fn = loss_fn, optimizer = optimizer\n",
    "            )\n",
    "            self.train_loss_values.append(train_loss.detach().cpu().numpy())\n",
    "            test_loss, test_f1_macro, test_f1_micro = self.test_loop(\n",
    "                dataloader = dataloader, loss_fn = loss_fn\n",
    "            )\n",
    "            self.test_loss_values.append(test_loss.detach().cpu().numpy())\n",
    "            print(\n",
    "                f\"{loss_fn._get_name()} Train Loss: {train_loss} |\"\n",
    "                f\"{loss_fn._get_name()} Test Loss: {test_loss}\"\n",
    "            )\n",
    "            print(\n",
    "                f\"F1 Train Score (macro,micro): {train_f1_macro,train_f1_micro}  |\"\n",
    "                f\"F1 Test Score (macro,micro): {test_f1_macro,test_f1_micro}\"\n",
    "            )\n",
    "        print(\"Done!\")\n",
    "    \n",
    "    def predict(self, input: torch.Tensor) -> torch.Tensor:\n",
    "        self.eval()\n",
    "        with torch.inference_mode():\n",
    "            logits = self(input.to(device=device, dtype=torch.float32))\n",
    "            pred = nn.Softmax(dim=1)(logits).argmax(dim=1)\n",
    "        return pred\n",
    "    \n",
    "    def evaluation_report(self, input: torch.Tensor, labels: torch.Tensor,\n",
    "                          labels_names: list[str]):\n",
    "        pred = self.predict(input)\n",
    "        print(classification_report(y_pred = pred.cpu().numpy(), y_true = labels.cpu().numpy(),\n",
    "                              target_names = labels_names))"
   ]
  },
  {
   "cell_type": "markdown",
   "metadata": {},
   "source": [
    "### Linear Model"
   ]
  },
  {
   "cell_type": "code",
   "execution_count": 67,
   "metadata": {},
   "outputs": [],
   "source": [
    "class LinearModel(BoilerPlate):\n",
    "    def __init__(self, input_shape: int, hidden_units: int, output_shape: int):\n",
    "        super().__init__()\n",
    "        self.layer_stack = nn.Sequential(\n",
    "            nn.Flatten(), # inputs must be in vector shape\n",
    "            nn.Linear(in_features=input_shape, out_features=hidden_units), \n",
    "            # in_features = 28*28 (784 pixels)\n",
    "            nn.Linear(in_features=hidden_units, out_features=output_shape)\n",
    "        )\n",
    "        \n",
    "    def forward(self, x):\n",
    "        return self.layer_stack(x)"
   ]
  },
  {
   "cell_type": "code",
   "execution_count": 68,
   "metadata": {},
   "outputs": [],
   "source": [
    "input_shape = 28*28\n",
    "hidden_units = 512\n",
    "output_shape = len(labels_map)\n",
    "learning_rate = 1e-3\n",
    "n_epochs = 5\n",
    "lin_model = LinearModel(input_shape = input_shape,hidden_units = hidden_units,\n",
    "                        output_shape = output_shape).to(device)\n",
    "loss_fn = nn.CrossEntropyLoss() # this is also called \"criterion\"/\"cost function\" in some places\n",
    "optimizer = torch.optim.SGD(params = lin_model.parameters(), lr = learning_rate)"
   ]
  },
  {
   "cell_type": "code",
   "execution_count": 69,
   "metadata": {},
   "outputs": [
    {
     "data": {
      "text/plain": [
       "tensor([[ 0.0201,  0.2125, -0.0384, -0.0888,  0.0334,  0.2394,  0.2307,  0.1191,\n",
       "          0.0427, -0.2472]], device='cuda:0', grad_fn=<AddmmBackward0>)"
      ]
     },
     "execution_count": 69,
     "metadata": {},
     "output_type": "execute_result"
    }
   ],
   "source": [
    "lin_model(train_dataloader.dataset[0][0].to(device))"
   ]
  },
  {
   "cell_type": "code",
   "execution_count": 70,
   "metadata": {},
   "outputs": [
    {
     "name": "stderr",
     "output_type": "stream",
     "text": [
      "  0%|          | 0/5 [00:00<?, ?it/s]"
     ]
    },
    {
     "name": "stdout",
     "output_type": "stream",
     "text": [
      "Epoch 1\n",
      "-------------------------------\n"
     ]
    },
    {
     "name": "stderr",
     "output_type": "stream",
     "text": [
      " 20%|██        | 1/5 [00:14<00:58, 14.54s/it]"
     ]
    },
    {
     "name": "stdout",
     "output_type": "stream",
     "text": [
      "CrossEntropyLoss Train Loss: 1.5892634391784668 |CrossEntropyLoss Test Loss: 1.1626641750335693\n",
      "F1 Train Score (macro,micro): (tensor(1., device='cuda:0'), tensor(1., device='cuda:0'))  |F1 Test Score (macro,micro): (tensor(1., device='cuda:0'), tensor(1., device='cuda:0'))\n",
      "Epoch 2\n",
      "-------------------------------\n"
     ]
    },
    {
     "name": "stderr",
     "output_type": "stream",
     "text": [
      " 40%|████      | 2/5 [00:29<00:43, 14.63s/it]"
     ]
    },
    {
     "name": "stdout",
     "output_type": "stream",
     "text": [
      "CrossEntropyLoss Train Loss: 1.006898045539856 |CrossEntropyLoss Test Loss: 0.8999126553535461\n",
      "F1 Train Score (macro,micro): (tensor(1., device='cuda:0'), tensor(1., device='cuda:0'))  |F1 Test Score (macro,micro): (tensor(1., device='cuda:0'), tensor(1., device='cuda:0'))\n",
      "Epoch 3\n",
      "-------------------------------\n"
     ]
    },
    {
     "name": "stderr",
     "output_type": "stream",
     "text": [
      " 60%|██████    | 3/5 [00:43<00:29, 14.59s/it]"
     ]
    },
    {
     "name": "stdout",
     "output_type": "stream",
     "text": [
      "CrossEntropyLoss Train Loss: 0.8410616517066956 |CrossEntropyLoss Test Loss: 0.7932235598564148\n",
      "F1 Train Score (macro,micro): (tensor(1., device='cuda:0'), tensor(1., device='cuda:0'))  |F1 Test Score (macro,micro): (tensor(1., device='cuda:0'), tensor(1., device='cuda:0'))\n",
      "Epoch 4\n",
      "-------------------------------\n"
     ]
    },
    {
     "name": "stderr",
     "output_type": "stream",
     "text": [
      " 80%|████████  | 4/5 [00:58<00:14, 14.54s/it]"
     ]
    },
    {
     "name": "stdout",
     "output_type": "stream",
     "text": [
      "CrossEntropyLoss Train Loss: 0.7598467469215393 |CrossEntropyLoss Test Loss: 0.730582058429718\n",
      "F1 Train Score (macro,micro): (tensor(1., device='cuda:0'), tensor(1., device='cuda:0'))  |F1 Test Score (macro,micro): (tensor(1., device='cuda:0'), tensor(1., device='cuda:0'))\n",
      "Epoch 5\n",
      "-------------------------------\n"
     ]
    },
    {
     "name": "stderr",
     "output_type": "stream",
     "text": [
      "100%|██████████| 5/5 [01:12<00:00, 14.54s/it]"
     ]
    },
    {
     "name": "stdout",
     "output_type": "stream",
     "text": [
      "CrossEntropyLoss Train Loss: 0.7076278924942017 |CrossEntropyLoss Test Loss: 0.687047004699707\n",
      "F1 Train Score (macro,micro): (tensor(1., device='cuda:0'), tensor(1., device='cuda:0'))  |F1 Test Score (macro,micro): (tensor(1., device='cuda:0'), tensor(1., device='cuda:0'))\n",
      "Done!\n"
     ]
    },
    {
     "name": "stderr",
     "output_type": "stream",
     "text": [
      "\n"
     ]
    }
   ],
   "source": [
    "lin_model.train_model(train_dataloader, loss_fn= loss_fn, \n",
    "                      optimizer= optimizer, n_epochs = n_epochs)"
   ]
  },
  {
   "cell_type": "code",
   "execution_count": 71,
   "metadata": {},
   "outputs": [
    {
     "data": {
      "text/plain": [
       "tensor([9, 2, 1,  ..., 8, 1, 7], device='cuda:0')"
      ]
     },
     "execution_count": 71,
     "metadata": {},
     "output_type": "execute_result"
    }
   ],
   "source": [
    "lin_model.predict(test_data.data)"
   ]
  },
  {
   "cell_type": "markdown",
   "metadata": {},
   "source": [
    "### Convolutional Model"
   ]
  },
  {
   "cell_type": "code",
   "execution_count": 109,
   "metadata": {},
   "outputs": [],
   "source": [
    "# Create a convolutional neural network \n",
    "class TinyVGG(BoilerPlate):\n",
    "    \"\"\"\n",
    "    Model architecture copying TinyVGG from: \n",
    "    https://www.learnpytorch.io/03_pytorch_computer_vision/\n",
    "    \"\"\"\n",
    "    def __init__(self, input_shape: int, hidden_units: int, output_shape: int):\n",
    "        super().__init__()\n",
    "        self.block_1 = nn.Sequential(\n",
    "            # input shape of Conv2d is (number of samples, in_channels, height, width)\n",
    "            # ouput shape of Conv2d is (number of samples, out_channels, out_height, out_width)\n",
    "            # out_heigh, and out_width will be determined by kernel_size, stride, and padding\n",
    "            nn.Conv2d(in_channels=input_shape, \n",
    "                      out_channels=hidden_units, \n",
    "                      kernel_size=3, # how big is the square that's going over the image\n",
    "                      stride=1, # default\n",
    "                      padding=1), # options = \"valid\" (no padding) or \"same\" (output has same \n",
    "                      # shape as input) or int for specific number \n",
    "            nn.ReLU(),\n",
    "            nn.Conv2d(in_channels=hidden_units, \n",
    "                      out_channels=hidden_units,\n",
    "                      kernel_size=3,\n",
    "                      stride=1,\n",
    "                      padding=1),\n",
    "            nn.ReLU(),\n",
    "            nn.MaxPool2d(kernel_size=2,\n",
    "                         stride=2) # default stride value is same as kernel_size\n",
    "        )\n",
    "        self.block_2 = nn.Sequential(\n",
    "            nn.Conv2d(hidden_units, hidden_units, 3, padding=1),\n",
    "            nn.ReLU(),\n",
    "            nn.Conv2d(hidden_units, hidden_units, 3, padding=1),\n",
    "            nn.ReLU(),\n",
    "            nn.MaxPool2d(2)\n",
    "        )\n",
    "        self.classifier = nn.Sequential(\n",
    "            nn.Flatten(),\n",
    "            nn.Linear(in_features=hidden_units*7*7, \n",
    "                      out_features=output_shape)\n",
    "        )\n",
    "    \n",
    "    def forward(self, x: torch.Tensor):\n",
    "        x = self.block_1(x)\n",
    "        # print(x.shape)\n",
    "        x = self.block_2(x)\n",
    "        # print(x.shape)\n",
    "        x = self.classifier(x)\n",
    "        # print(x.shape)\n",
    "        return x"
   ]
  },
  {
   "cell_type": "code",
   "execution_count": 117,
   "metadata": {},
   "outputs": [],
   "source": [
    "input_shape = 1 # number of channels. In our case we just have 1, greyscale.\n",
    "hidden_units = 20\n",
    "output_shape = len(labels_map)\n",
    "learning_rate = 1e-3\n",
    "n_epochs = 5\n",
    "# convolutional model\n",
    "conv_model = TinyVGG(input_shape = input_shape,hidden_units = hidden_units,\n",
    "                        output_shape = output_shape).to(device)\n",
    "conv_loss_fn = nn.CrossEntropyLoss() # this is also called \"criterion\"/\"cost function\" in some places\n",
    "conv_optimizer = torch.optim.SGD(params = conv_model.parameters(), lr = learning_rate)"
   ]
  },
  {
   "cell_type": "code",
   "execution_count": 118,
   "metadata": {},
   "outputs": [
    {
     "data": {
      "text/plain": [
       "torch.Size([32, 1, 28, 28])"
      ]
     },
     "execution_count": 118,
     "metadata": {},
     "output_type": "execute_result"
    }
   ],
   "source": [
    "next(iter(train_dataloader))[0].to(device).shape"
   ]
  },
  {
   "cell_type": "code",
   "execution_count": 119,
   "metadata": {},
   "outputs": [
    {
     "data": {
      "text/plain": [
       "torch.Size([1, 1, 28, 28])"
      ]
     },
     "execution_count": 119,
     "metadata": {},
     "output_type": "execute_result"
    }
   ],
   "source": [
    "train_dataloader.dataset[0][0].unsqueeze(dim=0).shape"
   ]
  },
  {
   "cell_type": "code",
   "execution_count": 120,
   "metadata": {},
   "outputs": [
    {
     "data": {
      "text/plain": [
       "tensor([[ 0.0147, -0.0478,  0.0272,  0.0727, -0.0528,  0.0496, -0.0112, -0.0024,\n",
       "         -0.0400,  0.0387]], device='cuda:0', grad_fn=<AddmmBackward0>)"
      ]
     },
     "execution_count": 120,
     "metadata": {},
     "output_type": "execute_result"
    }
   ],
   "source": [
    "conv_model(train_dataloader.dataset[0][0].unsqueeze(dim=0).to(device))"
   ]
  },
  {
   "cell_type": "code",
   "execution_count": 121,
   "metadata": {},
   "outputs": [
    {
     "name": "stderr",
     "output_type": "stream",
     "text": [
      "  0%|          | 0/5 [00:00<?, ?it/s]"
     ]
    },
    {
     "name": "stdout",
     "output_type": "stream",
     "text": [
      "Epoch 1\n",
      "-------------------------------\n"
     ]
    },
    {
     "name": "stderr",
     "output_type": "stream",
     "text": [
      " 20%|██        | 1/5 [00:16<01:04, 16.07s/it]"
     ]
    },
    {
     "name": "stdout",
     "output_type": "stream",
     "text": [
      "CrossEntropyLoss Train Loss: 2.2907774448394775 |CrossEntropyLoss Test Loss: 2.257558584213257\n",
      "F1 Train Score (macro,micro): (tensor(1., device='cuda:0'), tensor(1., device='cuda:0'))  |F1 Test Score (macro,micro): (tensor(1., device='cuda:0'), tensor(1., device='cuda:0'))\n",
      "Epoch 2\n",
      "-------------------------------\n"
     ]
    },
    {
     "name": "stderr",
     "output_type": "stream",
     "text": [
      " 40%|████      | 2/5 [00:31<00:47, 15.86s/it]"
     ]
    },
    {
     "name": "stdout",
     "output_type": "stream",
     "text": [
      "CrossEntropyLoss Train Loss: 1.3829972743988037 |CrossEntropyLoss Test Loss: 0.7953259944915771\n",
      "F1 Train Score (macro,micro): (tensor(1., device='cuda:0'), tensor(1., device='cuda:0'))  |F1 Test Score (macro,micro): (tensor(1., device='cuda:0'), tensor(1., device='cuda:0'))\n",
      "Epoch 3\n",
      "-------------------------------\n"
     ]
    },
    {
     "name": "stderr",
     "output_type": "stream",
     "text": [
      " 60%|██████    | 3/5 [00:47<00:31, 15.75s/it]"
     ]
    },
    {
     "name": "stdout",
     "output_type": "stream",
     "text": [
      "CrossEntropyLoss Train Loss: 0.7626288533210754 |CrossEntropyLoss Test Loss: 0.7405754923820496\n",
      "F1 Train Score (macro,micro): (tensor(1., device='cuda:0'), tensor(1., device='cuda:0'))  |F1 Test Score (macro,micro): (tensor(1., device='cuda:0'), tensor(1., device='cuda:0'))\n",
      "Epoch 4\n",
      "-------------------------------\n"
     ]
    },
    {
     "name": "stderr",
     "output_type": "stream",
     "text": [
      " 80%|████████  | 4/5 [01:03<00:15, 15.69s/it]"
     ]
    },
    {
     "name": "stdout",
     "output_type": "stream",
     "text": [
      "CrossEntropyLoss Train Loss: 0.697597861289978 |CrossEntropyLoss Test Loss: 0.728380560874939\n",
      "F1 Train Score (macro,micro): (tensor(1., device='cuda:0'), tensor(1., device='cuda:0'))  |F1 Test Score (macro,micro): (tensor(1., device='cuda:0'), tensor(1., device='cuda:0'))\n",
      "Epoch 5\n",
      "-------------------------------\n"
     ]
    },
    {
     "name": "stderr",
     "output_type": "stream",
     "text": [
      "100%|██████████| 5/5 [01:18<00:00, 15.77s/it]"
     ]
    },
    {
     "name": "stdout",
     "output_type": "stream",
     "text": [
      "CrossEntropyLoss Train Loss: 0.6491590142250061 |CrossEntropyLoss Test Loss: 0.6342823505401611\n",
      "F1 Train Score (macro,micro): (tensor(1., device='cuda:0'), tensor(1., device='cuda:0'))  |F1 Test Score (macro,micro): (tensor(1., device='cuda:0'), tensor(1., device='cuda:0'))\n",
      "Done!\n"
     ]
    },
    {
     "name": "stderr",
     "output_type": "stream",
     "text": [
      "\n"
     ]
    }
   ],
   "source": [
    "conv_model.train_model(train_dataloader, loss_fn= conv_loss_fn, \n",
    "                      optimizer= conv_optimizer, n_epochs = n_epochs)"
   ]
  },
  {
   "cell_type": "markdown",
   "metadata": {},
   "source": [
    "## Model Evaluation"
   ]
  },
  {
   "cell_type": "code",
   "execution_count": null,
   "metadata": {},
   "outputs": [
    {
     "name": "stdout",
     "output_type": "stream",
     "text": [
      "              precision    recall  f1-score   support\n",
      "\n",
      "     T-Shirt       0.73      0.78      0.75      1000\n",
      "     Trouser       0.97      0.92      0.94      1000\n",
      "    Pullover       0.69      0.57      0.62      1000\n",
      "       Dress       0.75      0.83      0.79      1000\n",
      "        Coat       0.54      0.81      0.65      1000\n",
      "      Sandal       0.99      0.42      0.59      1000\n",
      "       Shirt       0.47      0.23      0.31      1000\n",
      "     Sneaker       0.69      0.88      0.78      1000\n",
      "         Bag       0.87      0.93      0.90      1000\n",
      "  Ankle Boot       0.73      0.94      0.82      1000\n",
      "\n",
      "    accuracy                           0.73     10000\n",
      "   macro avg       0.74      0.73      0.71     10000\n",
      "weighted avg       0.74      0.73      0.71     10000\n",
      "\n"
     ]
    }
   ],
   "source": [
    "lin_model.evaluation_report(input = test_data.data,\n",
    "                            labels = test_data.targets,\n",
    "                            labels_names = list(labels_map.values())\n",
    "                            )"
   ]
  },
  {
   "cell_type": "code",
   "execution_count": 123,
   "metadata": {},
   "outputs": [
    {
     "name": "stdout",
     "output_type": "stream",
     "text": [
      "              precision    recall  f1-score   support\n",
      "\n",
      "     T-Shirt       0.73      0.78      0.75      1000\n",
      "     Trouser       0.87      0.91      0.89      1000\n",
      "    Pullover       0.78      0.38      0.51      1000\n",
      "       Dress       0.79      0.78      0.78      1000\n",
      "        Coat       0.50      0.86      0.63      1000\n",
      "      Sandal       1.00      0.33      0.49      1000\n",
      "       Shirt       0.33      0.20      0.25      1000\n",
      "     Sneaker       0.71      0.84      0.77      1000\n",
      "         Bag       0.87      0.96      0.91      1000\n",
      "  Ankle Boot       0.66      0.98      0.79      1000\n",
      "\n",
      "    accuracy                           0.70     10000\n",
      "   macro avg       0.72      0.70      0.68     10000\n",
      "weighted avg       0.72      0.70      0.68     10000\n",
      "\n"
     ]
    }
   ],
   "source": [
    "conv_model.evaluation_report(input = test_data.data.unsqueeze(dim=1),\n",
    "                            labels = test_data.targets,\n",
    "                            labels_names = list(labels_map.values()))"
   ]
  },
  {
   "cell_type": "markdown",
   "metadata": {},
   "source": [
    "Our results differ from the pytorch tutorial. \n",
    "All of them are lower than in the tutorial. Some reasons could be:\n",
    "- Using the whole test dataset, instead of doing averages per epoch.\n",
    "- Using Scikit-learn accuracy function, instead of PyTorch's.\n",
    "Another difference is also the inverted performance relation. Our linear model is better than\n",
    "the convolution.\n",
    "- I'm using many more hidden units (512) for the linear model."
   ]
  },
  {
   "cell_type": "code",
   "execution_count": null,
   "metadata": {},
   "outputs": [],
   "source": []
  }
 ],
 "metadata": {
  "kernelspec": {
   "display_name": "Python 3",
   "language": "python",
   "name": "python3"
  },
  "language_info": {
   "codemirror_mode": {
    "name": "ipython",
    "version": 3
   },
   "file_extension": ".py",
   "mimetype": "text/x-python",
   "name": "python",
   "nbconvert_exporter": "python",
   "pygments_lexer": "ipython3",
   "version": "3.10.12"
  }
 },
 "nbformat": 4,
 "nbformat_minor": 2
}
