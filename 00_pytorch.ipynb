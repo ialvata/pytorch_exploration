{
 "cells": [
  {
   "cell_type": "code",
   "execution_count": 2,
   "metadata": {},
   "outputs": [
    {
     "data": {
      "text/plain": [
       "'2.0.0+cu117'"
      ]
     },
     "execution_count": 2,
     "metadata": {},
     "output_type": "execute_result"
    }
   ],
   "source": [
    "import torch\n",
    "torch.__version__"
   ]
  },
  {
   "cell_type": "code",
   "execution_count": 43,
   "metadata": {},
   "outputs": [
    {
     "data": {
      "text/plain": [
       "tensor([[0.2778, 0.3135, 0.7340, 0.8536],\n",
       "        [0.3142, 0.6048, 0.5258, 0.4607],\n",
       "        [0.8428, 0.7049, 0.4636, 0.6581]])"
      ]
     },
     "execution_count": 43,
     "metadata": {},
     "output_type": "execute_result"
    }
   ],
   "source": [
    "random_tensor = torch.rand(size=(3, 4))\n",
    "random_tensor"
   ]
  },
  {
   "cell_type": "code",
   "execution_count": 31,
   "metadata": {},
   "outputs": [
    {
     "data": {
      "text/plain": [
       "tensor([[0., 0., 0., 0.],\n",
       "        [0., 0., 0., 0.],\n",
       "        [0., 0., 0., 0.]])"
      ]
     },
     "execution_count": 31,
     "metadata": {},
     "output_type": "execute_result"
    }
   ],
   "source": [
    "zeros = torch.zeros(size=(3, 4))\n",
    "zeros"
   ]
  },
  {
   "cell_type": "code",
   "execution_count": 32,
   "metadata": {},
   "outputs": [
    {
     "data": {
      "text/plain": [
       "tensor([[0., 0., 0., 0.],\n",
       "        [0., 0., 0., 0.],\n",
       "        [0., 0., 0., 0.]])"
      ]
     },
     "execution_count": 32,
     "metadata": {},
     "output_type": "execute_result"
    }
   ],
   "source": [
    "zeros*random_tensor # element-wise multiplication"
   ]
  },
  {
   "cell_type": "markdown",
   "metadata": {},
   "source": [
    "Element-wise multiplication of `tensor1` and `tensor2` will not work when shape components are different, and when on of the tensors doesn't have all 1s in shape components..."
   ]
  },
  {
   "cell_type": "code",
   "execution_count": 44,
   "metadata": {},
   "outputs": [
    {
     "name": "stdout",
     "output_type": "stream",
     "text": [
      "tensor([[0.]])\n"
     ]
    },
    {
     "data": {
      "text/plain": [
       "tensor([[0., 0., 0., 0.],\n",
       "        [0., 0., 0., 0.],\n",
       "        [0., 0., 0., 0.]])"
      ]
     },
     "execution_count": 44,
     "metadata": {},
     "output_type": "execute_result"
    }
   ],
   "source": [
    "zeros = torch.zeros(size=(1, 1))\n",
    "print(zeros)\n",
    "zeros * random_tensor"
   ]
  },
  {
   "cell_type": "markdown",
   "metadata": {},
   "source": [
    "But the below will fail..."
   ]
  },
  {
   "cell_type": "code",
   "execution_count": 45,
   "metadata": {},
   "outputs": [
    {
     "name": "stdout",
     "output_type": "stream",
     "text": [
      "tensor([[0., 0.]])\n"
     ]
    },
    {
     "ename": "RuntimeError",
     "evalue": "The size of tensor a (2) must match the size of tensor b (4) at non-singleton dimension 1",
     "output_type": "error",
     "traceback": [
      "\u001b[0;31m---------------------------------------------------------------------------\u001b[0m",
      "\u001b[0;31mRuntimeError\u001b[0m                              Traceback (most recent call last)",
      "\u001b[1;32m/home/ivo/Programming_Personal_Projects/pytorch_exploration/00_pytorch.ipynb Cell 8\u001b[0m line \u001b[0;36m3\n\u001b[1;32m      <a href='vscode-notebook-cell:/home/ivo/Programming_Personal_Projects/pytorch_exploration/00_pytorch.ipynb#X20sZmlsZQ%3D%3D?line=0'>1</a>\u001b[0m zeros \u001b[39m=\u001b[39m torch\u001b[39m.\u001b[39mzeros(size\u001b[39m=\u001b[39m(\u001b[39m1\u001b[39m, \u001b[39m2\u001b[39m))\n\u001b[1;32m      <a href='vscode-notebook-cell:/home/ivo/Programming_Personal_Projects/pytorch_exploration/00_pytorch.ipynb#X20sZmlsZQ%3D%3D?line=1'>2</a>\u001b[0m \u001b[39mprint\u001b[39m(zeros)\n\u001b[0;32m----> <a href='vscode-notebook-cell:/home/ivo/Programming_Personal_Projects/pytorch_exploration/00_pytorch.ipynb#X20sZmlsZQ%3D%3D?line=2'>3</a>\u001b[0m zeros \u001b[39m*\u001b[39;49m random_tensor\n",
      "\u001b[0;31mRuntimeError\u001b[0m: The size of tensor a (2) must match the size of tensor b (4) at non-singleton dimension 1"
     ]
    }
   ],
   "source": [
    "zeros = torch.zeros(size=(1, 2))\n",
    "print(zeros)\n",
    "zeros * random_tensor"
   ]
  },
  {
   "cell_type": "markdown",
   "metadata": {},
   "source": [
    "For matrix multiplication we use `torch.Tensor.matmul`"
   ]
  },
  {
   "cell_type": "code",
   "execution_count": 46,
   "metadata": {},
   "outputs": [
    {
     "data": {
      "text/plain": [
       "tensor([[0.2577, 0.8010, 0.5925],\n",
       "        [0.2466, 0.4823, 0.2703],\n",
       "        [0.5491, 0.5307, 0.4801],\n",
       "        [0.5078, 0.0811, 0.0461]])"
      ]
     },
     "execution_count": 46,
     "metadata": {},
     "output_type": "execute_result"
    }
   ],
   "source": [
    "random_tensor_2 = torch.rand(size=(4, 3))\n",
    "random_tensor_2"
   ]
  },
  {
   "cell_type": "code",
   "execution_count": 47,
   "metadata": {},
   "outputs": [
    {
     "data": {
      "text/plain": [
       "tensor([[0.8226, 0.9829, 0.8850, 0.9789],\n",
       "        [0.4479, 0.5596, 0.5599, 0.6106],\n",
       "        [0.7239, 0.8316, 0.9047, 1.0291],\n",
       "        [0.2054, 0.2408, 0.4368, 0.5012]])"
      ]
     },
     "execution_count": 47,
     "metadata": {},
     "output_type": "execute_result"
    }
   ],
   "source": [
    "random_tensor_2.matmul(random_tensor)"
   ]
  },
  {
   "cell_type": "code",
   "execution_count": 50,
   "metadata": {},
   "outputs": [
    {
     "data": {
      "text/plain": [
       "tensor([[[0.5319, 0.8238, 1.3541],\n",
       "         [0.5162, 0.8844, 1.2540],\n",
       "         [1.0994, 1.6504, 1.9583]],\n",
       "\n",
       "        [[0.9502, 1.5143, 1.9786],\n",
       "         [0.7200, 1.0652, 1.1466],\n",
       "         [0.7625, 1.1517, 1.2663]]])"
      ]
     },
     "execution_count": 50,
     "metadata": {},
     "output_type": "execute_result"
    }
   ],
   "source": [
    "random_tensor_3_1 = torch.rand(size=(2,3, 4))\n",
    "random_tensor_3_2 = torch.rand(size=(1,4, 3)) # dimension[0] gets broadcasted to fit\n",
    "random_tensor_3_1.matmul(random_tensor_3_2)"
   ]
  },
  {
   "cell_type": "code",
   "execution_count": 9,
   "metadata": {},
   "outputs": [
    {
     "data": {
      "text/plain": [
       "tensor([[[[0.6534, 0.5818, 0.8323],\n",
       "          [0.3535, 0.2946, 0.5658],\n",
       "          [0.4798, 0.4072, 0.7396]],\n",
       "\n",
       "         [[1.0125, 0.9407, 1.3370],\n",
       "          [0.5564, 0.5842, 0.8176],\n",
       "          [0.7084, 0.5927, 0.9987]],\n",
       "\n",
       "         [[1.2453, 1.4098, 1.0292],\n",
       "          [0.7346, 0.9074, 0.6839],\n",
       "          [0.8923, 1.0539, 0.8310]],\n",
       "\n",
       "         [[1.1662, 1.3520, 1.3841],\n",
       "          [0.6457, 0.6556, 0.7017],\n",
       "          [0.6502, 0.9920, 0.9527]]],\n",
       "\n",
       "\n",
       "        [[[0.2349, 0.3007, 0.6527],\n",
       "          [0.4155, 0.5886, 0.5192],\n",
       "          [0.7150, 0.5960, 0.7187]],\n",
       "\n",
       "         [[0.4128, 0.5892, 0.8083],\n",
       "          [0.6547, 0.5395, 0.8581],\n",
       "          [1.0583, 0.7957, 1.2395]],\n",
       "\n",
       "         [[0.6336, 0.9908, 0.7978],\n",
       "          [0.7461, 0.8786, 0.6686],\n",
       "          [1.2130, 1.2049, 0.8599]],\n",
       "\n",
       "         [[0.7381, 0.5476, 0.6446],\n",
       "          [1.0263, 1.3167, 1.2893],\n",
       "          [0.9965, 1.5060, 1.4434]]]])"
      ]
     },
     "execution_count": 9,
     "metadata": {},
     "output_type": "execute_result"
    }
   ],
   "source": [
    "\n",
    "torch.rand(size=(2,1,3, 4)).matmul(torch.rand(size=(1,4,4, 3))) \n",
    "# different dims in different tensors get broadcasted"
   ]
  },
  {
   "cell_type": "code",
   "execution_count": 11,
   "metadata": {},
   "outputs": [
    {
     "ename": "RuntimeError",
     "evalue": "The size of tensor a (3) must match the size of tensor b (4) at non-singleton dimension 1",
     "output_type": "error",
     "traceback": [
      "\u001b[0;31m---------------------------------------------------------------------------\u001b[0m",
      "\u001b[0;31mRuntimeError\u001b[0m                              Traceback (most recent call last)",
      "\u001b[1;32m/home/ivo/Programming_Personal_Projects/pytorch_exploration/00_pytorch.ipynb Cell 14\u001b[0m line \u001b[0;36m1\n\u001b[0;32m----> <a href='vscode-notebook-cell:/home/ivo/Programming_Personal_Projects/pytorch_exploration/00_pytorch.ipynb#X16sZmlsZQ%3D%3D?line=0'>1</a>\u001b[0m torch\u001b[39m.\u001b[39;49mzeros(size\u001b[39m=\u001b[39;49m(\u001b[39m1\u001b[39;49m, \u001b[39m3\u001b[39;49m)) \u001b[39m*\u001b[39;49m torch\u001b[39m.\u001b[39;49mrand(size\u001b[39m=\u001b[39;49m(\u001b[39m1\u001b[39;49m,\u001b[39m4\u001b[39;49m))\n",
      "\u001b[0;31mRuntimeError\u001b[0m: The size of tensor a (3) must match the size of tensor b (4) at non-singleton dimension 1"
     ]
    }
   ],
   "source": [
    "torch.zeros(size=(1, 3)) * torch.rand(size=(1,4))"
   ]
  },
  {
   "cell_type": "code",
   "execution_count": 12,
   "metadata": {},
   "outputs": [
    {
     "name": "stdout",
     "output_type": "stream",
     "text": [
      "tensor([[0.7602, 0.8198, 0.6120, 0.0878],\n",
      "        [0.4233, 0.5677, 0.6903, 0.7071],\n",
      "        [0.1861, 0.6623, 0.3201, 0.4630]], dtype=torch.float64)\n",
      "Shape of tensor: torch.Size([3, 4])\n",
      "Datatype of tensor: torch.float64\n",
      "Device tensor is stored on: cpu\n"
     ]
    }
   ],
   "source": [
    "# Create a tensor\n",
    "some_tensor = torch.rand(3, 4, dtype=torch.float64)\n",
    "\n",
    "# Find out details about it\n",
    "print(some_tensor)\n",
    "print(f\"Shape of tensor: {some_tensor.shape}\")\n",
    "print(f\"Datatype of tensor: {some_tensor.dtype}\")\n",
    "print(f\"Device tensor is stored on: {some_tensor.device}\") # will default to CPU\n",
    "\n"
   ]
  },
  {
   "cell_type": "code",
   "execution_count": 13,
   "metadata": {},
   "outputs": [
    {
     "data": {
      "text/plain": [
       "tensor(0.5250, dtype=torch.float64)"
      ]
     },
     "execution_count": 13,
     "metadata": {},
     "output_type": "execute_result"
    }
   ],
   "source": [
    "some_tensor.mean()"
   ]
  },
  {
   "cell_type": "code",
   "execution_count": 17,
   "metadata": {},
   "outputs": [
    {
     "data": {
      "text/plain": [
       "tensor(0.5249, dtype=torch.float16)"
      ]
     },
     "execution_count": 17,
     "metadata": {},
     "output_type": "execute_result"
    }
   ],
   "source": [
    "torch.mean(some_tensor.type(torch.float16))"
   ]
  },
  {
   "cell_type": "code",
   "execution_count": 40,
   "metadata": {},
   "outputs": [
    {
     "data": {
      "text/plain": [
       "tensor([0.8198, 0.7071, 0.6623], dtype=torch.float64)"
      ]
     },
     "execution_count": 40,
     "metadata": {},
     "output_type": "execute_result"
    }
   ],
   "source": [
    "some_tensor[torch.arange(end=some_tensor.shape[0]),some_tensor.argmax(dim=1)]"
   ]
  },
  {
   "cell_type": "code",
   "execution_count": 41,
   "metadata": {},
   "outputs": [
    {
     "data": {
      "text/plain": [
       "tensor([0.7602, 0.8198, 0.6903, 0.7071], dtype=torch.float64)"
      ]
     },
     "execution_count": 41,
     "metadata": {},
     "output_type": "execute_result"
    }
   ],
   "source": [
    "some_tensor[some_tensor.argmax(dim=0),torch.arange(end=some_tensor.shape[1])]"
   ]
  },
  {
   "cell_type": "code",
   "execution_count": null,
   "metadata": {},
   "outputs": [],
   "source": []
  }
 ],
 "metadata": {
  "kernelspec": {
   "display_name": "Python 3",
   "language": "python",
   "name": "python3"
  },
  "language_info": {
   "codemirror_mode": {
    "name": "ipython",
    "version": 3
   },
   "file_extension": ".py",
   "mimetype": "text/x-python",
   "name": "python",
   "nbconvert_exporter": "python",
   "pygments_lexer": "ipython3",
   "version": "3.10.12"
  }
 },
 "nbformat": 4,
 "nbformat_minor": 2
}
